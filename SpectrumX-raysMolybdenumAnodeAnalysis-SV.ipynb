{
 "cells": [
  {
   "cell_type": "markdown",
   "metadata": {},
   "source": [
    "# Peak count rate of characteristic lines as a function of tube current"
   ]
  },
  {
   "cell_type": "markdown",
   "metadata": {},
   "source": [
    "This notebook is designed to help you analyse the effect of varying the tube current on the peak count rate of the Bremsstrahlung, and $\\kappa_\\alpha$ and $\\kappa_\\beta$ characteristic lines of your measured x-ray spectra. \n",
    "\n",
    "\n",
    "Step 1. Import numpy and pyplot from matplotlib. Also call the command that ensures matplotlib plots happen inline, within the current window."
   ]
  },
  {
   "cell_type": "code",
   "execution_count": null,
   "metadata": {
    "collapsed": true
   },
   "outputs": [],
   "source": [
    "#you can just run this cell\n",
    "import numpy as np\n",
    "import matplotlib.pyplot as plt\n",
    "%matplotlib inline"
   ]
  },
  {
   "cell_type": "markdown",
   "metadata": {},
   "source": [
    "Step 2. Enter your experimental measurements in four, 1-d Numpy arrays corresponding to \n",
    "\n",
    "$I(mA)\\text{ , }R_{\\kappa_\\alpha} (s^{-1}) \\text{ , }R_{\\kappa_\\beta} (s^{-1})\\text{ and }R_{C} (s^{-1})\\text{ }$.\n",
    "\n",
    "Make sure each array has the same number of entries as the others. "
   ]
  },
  {
   "cell_type": "code",
   "execution_count": null,
   "metadata": {
    "collapsed": true
   },
   "outputs": [],
   "source": [
    "current=np.array([])\n",
    "\n",
    "rKappaAlpha=np.array([])\n",
    "\n",
    "rKappaBeta=np.array([])\n",
    "\n",
    "rC=np.array([])\n"
   ]
  },
  {
   "cell_type": "markdown",
   "metadata": {},
   "source": [
    "Each of the count rate measurements is a sample measurement of a statistical process, meaning that if you measured them again, there would be some variation to the measurements - not because of some malfunction of the counting device but because the actual number of counts randomly varies following a Poisson distribution. Let's assume the count rate follows a statistical distribution; the Poisson distribution to be precise, with population mean $\\mu_C$ and a standard deviation $\\sigma_C=\\sqrt{\\mu_C}$.\n",
    "\n",
    "Your measurement of $R_C$ can be thought of as a sample mean of the count rate's Poisson distribution. It's an estimate of the population mean, $\\mu_C$, because you estimated it from a sample of measurements taken over a finite time interval. As an estimate, it contains statistical uncertainty; we can't say for certain that $\\mu_C=R_C$ for example. The fewer measurements, or equivalently the shorter time interval over which $R_C$ was measured, the greater this uncertainty. There is also more uncertainty in the sample mean being a good approximation to the population mean if the actual statistical distribution is spread widely, i.e. large $\\sigma_C$. \n",
    "\n",
    "In statistics the uncertainty of a sample estimate from the population value is known as sample estimate's \"standard error\". \n",
    "In general standard error is calculated by taking the standard deviation of the population distribution and dividing by the square root of the number of samples you used to calculate the sample estimate. For $SE_{R_C}$ this translates to\n",
    "\n",
    "$SE_{R_C}=\\sqrt{\\dfrac{R_C}{\\Delta t_{R_C}}}$\n",
    "\n",
    "because the standard deviation of a Poisson distribution is given by the square root of the mean, and the length of time we measured the count rate over translates to a larger sample size.\n",
    "\n",
    "The same is true of the statistical uncertainty (standard error) in each of your measured count rates $R_{\\kappa_\\alpha}$ and $R_{\\kappa_\\beta}$.\n",
    "\n",
    "Step 3. Assuming the X-ray count rate follows a Poisson distribution, we now estimate the uncertainty in each of the measure count rates. First you will need to enter the acquisition time for each measurement. Then use the above formula, to complete the expression to calculate the standard deviation of each count rate measurement."
   ]
  },
  {
   "cell_type": "code",
   "execution_count": null,
   "metadata": {
    "collapsed": false
   },
   "outputs": [],
   "source": [
    "#enter the time taken (s) for acquistion of each count rate\n",
    "deltaT=\n",
    "#Assuming a Poisson distribution, calculate the uncertainty (i.e. standard error) in the count rate data.\n",
    "SE_rKappaAlpha=\n",
    "SE_rKappaBeta=\n",
    "SE_rC="
   ]
  },
  {
   "cell_type": "markdown",
   "metadata": {},
   "source": [
    "Step 4. Now you are ready to plot your experimental measurements of count rate as a function of tube current."
   ]
  },
  {
   "cell_type": "code",
   "execution_count": null,
   "metadata": {
    "collapsed": false
   },
   "outputs": [],
   "source": [
    "#plotting rKappaAlpha as a function of current, using vertical error bars to show uncertainty SE_rKappaAlpha \n",
    "plt.errorbar(current,rKappaAlpha,yerr=SE_rKappaAlpha,ls=\"none\",marker=\".\",c=\"g\",ecolor=\"k\",label=\"alpha\")\n",
    "#similarly, plot rKappaBeta as a function of current,\n",
    "plt.errorbar()\n",
    "#and plot rC as a function of current\n",
    "plt.errorbar()\n",
    "#add axes labels\n",
    "\n",
    "\n",
    "#add title\n",
    "\n",
    "#add legend\n"
   ]
  },
  {
   "cell_type": "markdown",
   "metadata": {},
   "source": [
    "From the above plot, do you think each of your count rates, $R$, varies linearly with tube current, $I$?\n",
    "\n",
    "If so, proceed with the next steps to find the best fitting linear relationship between them.\n",
    "\n",
    "Step 5. Determine the best fitting line for each data series using polyfit. (You'll need to fit a polynomical of order 1. However we can't calculate the uncertainty in each of the best fitting parameters because you don't have enough data points to do so.)"
   ]
  },
  {
   "cell_type": "code",
   "execution_count": null,
   "metadata": {
    "collapsed": false
   },
   "outputs": [],
   "source": [
    "#Fit a polynomial of order 1 (line) and return the fitted parameters and their covariance \n",
    "alphalinParam=np.polyfit(current,rKappaAlpha,1,w=1.0/SE_rKappaAlpha)\n",
    "#make a label for this line of best fit\n",
    "alphalabel=\"{:.3f}I+{:.3f}\".format(alphalinParam[0],alphalinParam[1])\n",
    "print(\"The line of best fit for kappa_alpha is given by\",alphalabel)\n",
    "#repeat for rKappaBeta\n",
    "betalinParam=np.polyfit()\n",
    "betalabel=\n",
    "print()\n",
    "#repeat for rC\n",
    "bremlinParam=np.polyfit()\n",
    "bremlabel=\n",
    "print()"
   ]
  },
  {
   "cell_type": "markdown",
   "metadata": {},
   "source": [
    "Step 6. Now produce the data for these best fitting lines with 'np.polyval' so you can plot them."
   ]
  },
  {
   "cell_type": "code",
   "execution_count": null,
   "metadata": {
    "collapsed": true
   },
   "outputs": [],
   "source": [
    "alphaBestLine=np.polyval(alphalinParam,current)\n",
    "#complete for line fitted to kappa_beta data\n",
    "betaBestLine=np.polyval(\n",
    "#complete for line fitted to Bremmstralung peak data\n",
    "bremBestLine=np.polyval("
   ]
  },
  {
   "cell_type": "markdown",
   "metadata": {},
   "source": [
    "Step 7. Plot all your experimental data as you did in Step 6. Also plot your best linear fits using lines only.\n",
    "Finally save the figure to pdf file."
   ]
  },
  {
   "cell_type": "code",
   "execution_count": null,
   "metadata": {
    "collapsed": false
   },
   "outputs": [],
   "source": [
    "#replot your experimental data by completing the following\n",
    "plt.errorbar(current,rKappaAlpha,yerr=SE_rKappaAlpha,ls=\"none\",marker=\".\",c=\"g\",ecolor=\"k\",label=\"alpha\")\n",
    "plt.errorbar(current,rKappaBeta,\n",
    "plt.errorbar(\n",
    "#plot your three lines of best fit with their labels in different colors   \n",
    "plt.plot(current,alphaBestLine,c=(0,0.25,0),label=alphalabel)\n",
    "plt.plot(current,\n",
    "plt.plot(\n",
    "#add axes labels\n",
    "\n",
    "\n",
    "#add title\n",
    "\n",
    "#add legend\n",
    "\n",
    "#Enter an appropriate pdf filename for the plot\n",
    "plt.savefig(\"myplot.pdf\",dpi=300,orientation=\"landscape\")"
   ]
  },
  {
   "cell_type": "markdown",
   "metadata": {},
   "source": [
    "Step 8. Print a hard-copy of your pdf file and stick the graph in your lab book."
   ]
  }
 ],
 "metadata": {
  "kernelspec": {
   "display_name": "Python 3",
   "language": "python",
   "name": "python3"
  },
  "language_info": {
   "codemirror_mode": {
    "name": "ipython",
    "version": 3
   },
   "file_extension": ".py",
   "mimetype": "text/x-python",
   "name": "python",
   "nbconvert_exporter": "python",
   "pygments_lexer": "ipython3",
   "version": "3.6.0"
  }
 },
 "nbformat": 4,
 "nbformat_minor": 2
}
