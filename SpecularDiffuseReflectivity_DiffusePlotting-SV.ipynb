{
 "cells": [
  {
   "cell_type": "markdown",
   "metadata": {},
   "source": [
    "# Graphing diffuse reflectivity as a function of angle"
   ]
  },
  {
   "cell_type": "markdown",
   "metadata": {},
   "source": [
    "Complete this python notebook to graph your measurements of reflectivity $R_p$ as a function of $\\theta_i$ off a glossy-painted surface and a matte-painted surface.\n",
    "\n",
    "Step 1. Import numpy and pyplot from matplotlib. Also call the command that ensures matplotlib plots happen inline, within the current window."
   ]
  },
  {
   "cell_type": "code",
   "execution_count": null,
   "metadata": {
    "collapsed": true
   },
   "outputs": [],
   "source": [
    "import numpy as np\n",
    "import matplotlib.pyplot as plt\n",
    "%matplotlib inline"
   ]
  },
  {
   "cell_type": "markdown",
   "metadata": {},
   "source": [
    "Step 2. Enter your intensity (voltage) measurements of diffuse reflected light at various angles from the most glossy-painted surface. Make sure that each Numpy array contains the same number of entries as each other."
   ]
  },
  {
   "cell_type": "code",
   "execution_count": null,
   "metadata": {
    "collapsed": false
   },
   "outputs": [],
   "source": [
    "#enter angles in degrees at which measurement occurred off glossy painted surface\n",
    "thetai_deg_gloss=np.array([])\n",
    "#enter associated uncertainty\n",
    "delta_thetai_deg_gloss=np.array([])\n",
    "#enter voltage measurements\n",
    "Vthetai_gloss=np.array([])\n",
    "#enter uncertainty in voltage measurements\n",
    "delta_Vthetai_gloss=np.array([])"
   ]
  },
  {
   "cell_type": "markdown",
   "metadata": {},
   "source": [
    "Step 3. Obtain the voltage measurement at $\\theta=90^\\circ$. Divide through by V90 to calculate $R_p$ experimentally."
   ]
  },
  {
   "cell_type": "code",
   "execution_count": null,
   "metadata": {
    "collapsed": false
   },
   "outputs": [],
   "source": [
    "#you can just run this cell once you understand what each command does!\n",
    "#obtain voltage measurements at thetai=90 deg and the associated uncertainty\n",
    "V90=Vthetai_gloss.max()\n",
    "delta_V90=delta_Vthetai_gloss[Vthetai_gloss==V90]\n",
    "#Calculate Rp_gloss\n",
    "Rp_gloss=Vthetai_gloss/V90\n",
    "#Calculate the uncertainty of Rp_gloss\n",
    "delta_Rp_gloss=np.sqrt((delta_Vthetai_gloss/Vthetai_gloss)**2+(delta_V90/V90)**2)*Rp_gloss"
   ]
  },
  {
   "cell_type": "markdown",
   "metadata": {},
   "source": [
    "Step 4. Repeat steps 2 and 3 for your measurements off the matte-painted surface. You may assume that V90 is the same for the matte surface as well as the glossy surface, as the light doesn't actually reflect when $\\theta_i=90$, it just passes straight through to the detector."
   ]
  },
  {
   "cell_type": "code",
   "execution_count": null,
   "metadata": {
    "collapsed": false
   },
   "outputs": [],
   "source": [
    "#enter angles in degrees at which measurement occurred off matte painted surface\n",
    "thetai_deg_matte=np.array([])\n",
    "#enter associated uncertainty\n",
    "delta_thetai_deg_matte=np.array([])\n",
    "#enter voltage measurements\n",
    "Vthetai_matte=np.array([])\n",
    "#enter uncertainty in voltage measurements\n",
    "delta_Vthetai_matte=np.array([])"
   ]
  },
  {
   "cell_type": "code",
   "execution_count": null,
   "metadata": {
    "collapsed": true
   },
   "outputs": [],
   "source": [
    "#Calculate Rp_matte\n",
    "Rp_matte=\n",
    "#Calculate the uncertainty of Rp_matte\n",
    "delta_Rp_matte=np.sqrt((delta_Vthetai_matte/Vthetai_matte)**2+(delta_V90/V90)**2)*Rp_matte"
   ]
  },
  {
   "cell_type": "markdown",
   "metadata": {},
   "source": [
    "Step 5. Plot both sets of measurements on the same graph showing uncertainty with error bars.\n",
    "\n",
    "Label each series. \n",
    "\n",
    "Add a graph title, axes labels and a legend. \n",
    "\n",
    "Finally save the graph as a pdf file so you can print it out and stick it in your lab book."
   ]
  },
  {
   "cell_type": "code",
   "execution_count": null,
   "metadata": {
    "collapsed": false
   },
   "outputs": [],
   "source": [
    "#plotting glossy results and adding label\n",
    "plt.errorbar(thetai_deg_gloss,Rp_gloss,yerr=delta_Rp_gloss,xerr=delta_thetai_deg_gloss,marker=\".\",c=\"r\",ecolor=\"k\",label=\"Glossy\")\n",
    "#plotting matte results and adding label\n",
    "plt.errorbar()\n",
    "#Add title\n",
    "plt.suptitle()\n",
    "#Add y axis label\n",
    "plt.ylabel()\n",
    "#Add x axis label\n",
    "\n",
    "#Add legend\n",
    "\n",
    "#Change pdf filename to something appropriate\n",
    "plt.savefig(\"myplot.pdf\",dpi=300,orientation=\"landscape\")"
   ]
  },
  {
   "cell_type": "markdown",
   "metadata": {
    "collapsed": true
   },
   "source": [
    "Step 6. Check the graph you just produced. Does the graph show significant difference between the reflectivity from the two different painted surfaces? \n",
    "\n",
    "If not, try repeating the plot using a log scale on the vertical axis. This can be done using the \"plt.semilogy\" function in pyplot. (Don't worry about showing uncertainties with error bars this time.)"
   ]
  },
  {
   "cell_type": "code",
   "execution_count": null,
   "metadata": {
    "collapsed": false
   },
   "outputs": [],
   "source": [
    "plt.semilogy(thetai_deg_gloss,Rp_gloss,basey=2,marker=\".\",c=\"r\",label=\"Glossy\")\n",
    "plt.semilogy(thetai_deg_matte,Rp_matte,basey=2,marker=\".\",c=\"b\",label=\"Matte\")\n",
    "#Add title\n",
    "plt.suptitle()\n",
    "#Add y axis label\n",
    "plt.ylabel()\n",
    "#Add x axis label\n",
    "\n",
    "#Add legend\n",
    "\n",
    "#Save to appropriately named pdf file\n",
    "plt.savefig(\"myplot.pdf\",dpi=300,orientation=\"landscape\")"
   ]
  }
 ],
 "metadata": {
  "kernelspec": {
   "display_name": "Python 3",
   "language": "python",
   "name": "python3"
  },
  "language_info": {
   "codemirror_mode": {
    "name": "ipython",
    "version": 3
   },
   "file_extension": ".py",
   "mimetype": "text/x-python",
   "name": "python",
   "nbconvert_exporter": "python",
   "pygments_lexer": "ipython3",
   "version": "3.6.0"
  }
 },
 "nbformat": 4,
 "nbformat_minor": 2
}
