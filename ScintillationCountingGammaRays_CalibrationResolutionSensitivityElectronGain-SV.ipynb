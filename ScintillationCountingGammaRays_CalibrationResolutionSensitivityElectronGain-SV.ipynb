{
 "cells": [
  {
   "cell_type": "markdown",
   "metadata": {},
   "source": [
    "# Scintillation detector calibration, resolution, sensitivity and electron gain analysis."
   ]
  },
  {
   "cell_type": "markdown",
   "metadata": {},
   "source": [
    "Step 1. Import numpy and pyplot from matplotlib. Also call the command that ensures matplotlib plots happen inline, within the current window."
   ]
  },
  {
   "cell_type": "code",
   "execution_count": null,
   "metadata": {
    "collapsed": true
   },
   "outputs": [],
   "source": [
    "import numpy as np\n",
    "import matplotlib.pyplot as plt\n",
    "%matplotlib inline"
   ]
  },
  {
   "cell_type": "markdown",
   "metadata": {},
   "source": [
    "## Scintillation detector channel calibration. "
   ]
  },
  {
   "cell_type": "markdown",
   "metadata": {},
   "source": [
    "Complete this section of the notebook to determine the linear calibration between the scintillation detector's channel number and the energy it measures in MeV. It is assumed that the scintillation detector was operating with a high voltage of 820V, a coarse gain of 32 and a fine gain of 1.15.  \n",
    "\n",
    "Step 2. Enter your peak channel measurements, from Table 2, in a 1-d Numpy array. Do the same for the corresponding energies of the peaks."
   ]
  },
  {
   "cell_type": "code",
   "execution_count": null,
   "metadata": {
    "collapsed": true
   },
   "outputs": [],
   "source": [
    "#Enter data recorded in Table 2\n",
    "Cp=np.array([])\n",
    "Egamma=np.array([])"
   ]
  },
  {
   "cell_type": "markdown",
   "metadata": {},
   "source": [
    "Step 3. Plot Cp as a function of Egamma to visualise the relationship between them."
   ]
  },
  {
   "cell_type": "code",
   "execution_count": null,
   "metadata": {
    "collapsed": false
   },
   "outputs": [],
   "source": [
    "plt.plot()\n",
    "#add axes labels\n",
    "\n",
    "\n",
    "#Add title\n"
   ]
  },
  {
   "cell_type": "markdown",
   "metadata": {},
   "source": [
    "Does the plot above suggest that a linear relationship exists between $C_p$ and $E_\\gamma$?\n",
    "\n",
    "If so, we can say \n",
    "\n",
    "$C_p=\\alpha E_\\gamma+C_0\n",
    "$,\n",
    "where $\\alpha$ and $C_0$ are constants.\n",
    "\n",
    "Step 4. Assuming that there is a linear relationship between $E_\\gamma$ and $C_p$, determine the best fitting parameters $\\alpha$ and $C_0$ using polyfit. Fit a polynomial of degree 1 (linear). Remember to set the \"cov\" option to True, so you can determine the uncertainty in the fitted parameters. (If you think it necessary, exclude outliers before fitting.)"
   ]
  },
  {
   "cell_type": "code",
   "execution_count": null,
   "metadata": {
    "collapsed": false
   },
   "outputs": [],
   "source": [
    "#complete the polyfit function\n",
    "linCal,covParam=np.polyfit(\n",
    "#Calculating the uncertainty of the fitted linear parameters using the square root of the diagonal elements of the covariance matrix.\n",
    "sd_linCal=np.sqrt(np.diag(covParam))\n",
    "#Complete the following to print out each of the fitted parameters and its uncertainty so you can record them in your lab book.\n",
    "print(\"alpha={}+/-{}\".format(linCal[0],sd_linCal[0]))\n",
    "print(\"C_0={}+/-{}\".format())"
   ]
  },
  {
   "cell_type": "markdown",
   "metadata": {},
   "source": [
    "Step 5. Use the numpy function polyval to generate a set of points to plot the linear calibration of best fit. Then make a label for the plot using the fitted parameters. "
   ]
  },
  {
   "cell_type": "code",
   "execution_count": null,
   "metadata": {
    "collapsed": false
   },
   "outputs": [],
   "source": [
    "#complete the polyval function\n",
    "linearCal=np.polyval\n",
    "#label for the linear calibration line based on its equation\n",
    "linearCal_label=\"Cp={:.3e}E+{:.3e}\".format(linCal[0],linCal[1])"
   ]
  },
  {
   "cell_type": "markdown",
   "metadata": {},
   "source": [
    "Step 6. Plot your experimental measurements of $C_p$ as a function of $E_\\gamma$, as in step 3., but this time add in the line of best fit. After adding title, axes labels, and a legend, save the plot to a pdf file. You can then print it out and stick it in your lab book."
   ]
  },
  {
   "cell_type": "code",
   "execution_count": null,
   "metadata": {
    "collapsed": false
   },
   "outputs": [],
   "source": [
    "plt.plot(Egamma,Cp,marker=\".\",c=\"k\",ls=\"none\",label=\"Expt\")\n",
    "plt.plot(Egamma,linearCal,c=\"g\",label=linearCal_label)\n",
    "#add axis labels\n",
    "\n",
    "\n",
    "#Add title\n",
    "\n",
    "#add legend\n",
    "\n",
    "#Change name of pdf file to something appropriate\n",
    "plt.savefig(\"myplot.pdf\",dpi=300,orientation=\"landscape\")"
   ]
  },
  {
   "cell_type": "markdown",
   "metadata": {},
   "source": [
    "### Remember that this calibration between channel number and photon energy in MeV is only valid for operating the scintillation detector with a coarse gain of $32\\times$ and a high voltage of $820V$."
   ]
  },
  {
   "cell_type": "markdown",
   "metadata": {},
   "source": [
    "# Scintillation detector's resolution as a function of $E_\\gamma$"
   ]
  },
  {
   "cell_type": "markdown",
   "metadata": {},
   "source": [
    "Complete this section of the python notebook to graph how the scintillation detector's resolution varies as a function of $E_\\gamma$. \n",
    "\n",
    "Step 7. Enter your experimental measurements of peak width, $C_W$, from Table 2, as a 1-D Numpy array. Make sure it contains as many entries as your arrays Cp and Egamma."
   ]
  },
  {
   "cell_type": "code",
   "execution_count": null,
   "metadata": {
    "collapsed": true
   },
   "outputs": [],
   "source": [
    "Cw=np.array([])"
   ]
  },
  {
   "cell_type": "markdown",
   "metadata": {},
   "source": [
    "Step 8. Calculate the ratio of Cw/Cp, which is a measure of resolution. Then plot resolution as a function of energy $E_\\gamma$. \n"
   ]
  },
  {
   "cell_type": "code",
   "execution_count": null,
   "metadata": {
    "collapsed": false
   },
   "outputs": [],
   "source": [
    "#Calculate Res as the ratio of Cw/Cp\n",
    "Res=\n",
    "#Now plot Res as a function of energy\n",
    "plt.plot()\n",
    "#add title\n",
    "\n",
    "#add x axis label\n",
    "\n",
    "#add y axis label\n",
    "\n",
    "#save to an appropriately named pdf file\n",
    "plt.savefig(\"myplot.pdf\",dpi=300,orientation=\"landscape\")"
   ]
  },
  {
   "cell_type": "markdown",
   "metadata": {},
   "source": [
    "## Looking at the graph you've just plotted, could the relationship between the resolution and the energy be described roughly by a polynomial?\n",
    "If so, proceed with steps 9 and 10! If not, print out a hard copy of your graph and skip to the next section on the Scintillator's sensitivity."
   ]
  },
  {
   "cell_type": "markdown",
   "metadata": {},
   "source": [
    "Step 9. Choose which degree of polynomial you think will best describe the relationship between your resolution data and energy data (degree=1 for linear, degree = 2 for parabola, etc.). Then use numpy's polyfit and polyval to determine the best fitting polynomial. (If you think it necessary, exclude outliers before fitting.)"
   ]
  },
  {
   "cell_type": "code",
   "execution_count": null,
   "metadata": {
    "collapsed": true
   },
   "outputs": [],
   "source": [
    "#use polyfit to determine the parameters of the best fitting polynomial of degree you specify.\n",
    "polyParam,covParam=np.polyfit\n",
    "#Make a set of data along the polynomial of best fit using polyval\n",
    "polyBF=np.polyval()\n",
    "#Make a label for this polynomial of best fit\n",
    "polyBF_label=\"\""
   ]
  },
  {
   "cell_type": "markdown",
   "metadata": {},
   "source": [
    "Step 10.  Now replot your experimental data with the best fitting polynomial added and save that to pdf so you can print the plot out and stick it in your lab book. "
   ]
  },
  {
   "cell_type": "code",
   "execution_count": null,
   "metadata": {
    "collapsed": false
   },
   "outputs": [],
   "source": [
    "#Plot your experimental data using only markers and add a label\n",
    "plt.plot()\n",
    "#Plot your polynomial of best fit using a line only and add a label\n",
    "plt.plot()\n",
    "#add title\n",
    "\n",
    "#add x axis label\n",
    "\n",
    "#add y axis label\n",
    "\n",
    "#add legend\n",
    "\n",
    "#save to an appropriately named pdf file\n",
    "plt.savefig(\"myplot.pdf\",dpi=300,orientation=\"landscape\")"
   ]
  },
  {
   "cell_type": "markdown",
   "metadata": {},
   "source": [
    "# Scintillation detector's sensitivity"
   ]
  },
  {
   "cell_type": "markdown",
   "metadata": {},
   "source": [
    "Complete this section of the python notebook to graph the scintillation detector's sensitivity as a function of energy $E_\\gamma$.\n",
    "\n",
    "Step 11. Enter experimental measurements corresponding to the maximum count and the aquisition time for peak as two 1-d Numpy arrays. Make sure they have the same number of entries as your arrays Cp, Cw and Egamma."
   ]
  },
  {
   "cell_type": "code",
   "execution_count": null,
   "metadata": {
    "collapsed": true
   },
   "outputs": [],
   "source": [
    "#Enter your maximum count measurements\n",
    "MaxCount=np.array([])\n",
    "#Enter the aquisition time for the peaks. This array should be the same length as MaxCount\n",
    "Time=np.array([])\n"
   ]
  },
  {
   "cell_type": "markdown",
   "metadata": {},
   "source": [
    "Step 12. Scale your maximum count values by dividing by \"Time\" and multiplying by the maximum \"Time\" value."
   ]
  },
  {
   "cell_type": "code",
   "execution_count": null,
   "metadata": {
    "collapsed": true
   },
   "outputs": [],
   "source": [
    "MaxCount=\n",
    "MaxCount*="
   ]
  },
  {
   "cell_type": "markdown",
   "metadata": {},
   "source": [
    "Step 13. Use your theoretical estimates of \"Present Activity\" to make a Numpy array of PA values. \n",
    "\n",
    "The array should contain 6 values, corresponding to the 6 main peaks in the spectra of the four sources; Co-60, Cs-137, Mn-54 and Na-22. (Two of the values are repeated as two sources give two main peaks.) \n",
    "\n",
    "Use the order of peak energies in the Egamma array to guide the order you put the PA values in that array. "
   ]
  },
  {
   "cell_type": "code",
   "execution_count": null,
   "metadata": {
    "collapsed": false
   },
   "outputs": [],
   "source": [
    "print(Egamma)\n",
    "#Enter the present activity PA values.\n",
    "PA=np.array([])\n"
   ]
  },
  {
   "cell_type": "markdown",
   "metadata": {},
   "source": [
    "Step 14. As a measure of sensitivity calculate the ratio of the normalised maximum count divided by the source activity.\n",
    "\n",
    "\n",
    "Take the natural logarithm of the sensitivity and the natural logarithm of the energy $E_\\gamma$. \n",
    "\n",
    "Finally plot the log of the sensitivity as a function of the log of the energy. (Don't connect markers with lines.)"
   ]
  },
  {
   "cell_type": "code",
   "execution_count": null,
   "metadata": {
    "collapsed": false
   },
   "outputs": [],
   "source": [
    "Sens=MaxCount/PA\n",
    "#Calculating natural log of Sensitivity\n",
    "logSens=np.log(Sens)\n",
    "#Calculate natural log of Egamma\n",
    "logEgamma=\n",
    "#Plot logSens as a function fo logEgamma and add a label\n",
    "plt.plot()"
   ]
  },
  {
   "cell_type": "markdown",
   "metadata": {},
   "source": [
    "If $Sensitivity=c(E_\\gamma)^{-n}$, then the above plot of $\\ln{Sensitivity}$ against $\\ln{E_\\gamma}$ should form a straight line with gradient $-n$ and vertical intercept $\\ln{c}$. \n",
    "\n",
    "Step 15. Assuming that sensitivity does vary with $E_\\gamma$ in this way, fit a straight line to $\\ln{Sensitivity}$ depending on $\\ln{E_\\gamma}$ using Numpy's polyfit. (If you think it necessary, exclude outliers before fitting.)\n",
    "\n",
    "Set the cov tag to \"True\" and calculate the uncertainty in the fitted linear parameters by taking the square root of the diagonal elements of this matrix.\n",
    "\n",
    "Use Numpy's polyval to then generate the points along this line for plotting."
   ]
  },
  {
   "cell_type": "code",
   "execution_count": null,
   "metadata": {
    "collapsed": false
   },
   "outputs": [],
   "source": [
    "#Complete the following\n",
    "linParam,covParam=np.polyfit()\n",
    "#Uncertainty estimate of fitted linear parameters\n",
    "sdParam=np.sqrt(np.diag())\n",
    "#Print out the value of the fitted linear parameters and uncertainty in them. Record it in your lab book.\n",
    "\n",
    "\n",
    "#calculate the points on the best fitting line using polyval\n",
    "lineBF=np.polyval()\n",
    "#create a label to be used in a plot of this line\n",
    "lineBF_label=\"\""
   ]
  },
  {
   "cell_type": "markdown",
   "metadata": {},
   "source": [
    "Step 16. Plot your experimental data and your line of best fit on the same set of axes.\n",
    "\n",
    "Add title, axes labels and a legend to the plot.\n",
    "\n",
    "Save it as a pdf to be printed out and added to your lab book."
   ]
  },
  {
   "cell_type": "code",
   "execution_count": null,
   "metadata": {
    "collapsed": false
   },
   "outputs": [],
   "source": [
    "#Experimental logSens vs logEgamma\n",
    "plt.plot()\n",
    "#Line of best fit\n",
    "plt.plot()\n",
    "#add title\n",
    "\n",
    "#add x axis label\n",
    "\n",
    "#add y axis label\n",
    "\n",
    "#add legend\n",
    "\n",
    "#save plot to an appropriately named pdf file\n",
    "plt.savefig()"
   ]
  },
  {
   "cell_type": "markdown",
   "metadata": {},
   "source": [
    "# Scintillation detector's electron gain"
   ]
  },
  {
   "cell_type": "markdown",
   "metadata": {},
   "source": [
    "Complete this last section of the python notebook to see how electron gain, $e_g$ varies as a function of the high voltage, $V$, at which the scintillation detector is operated. \n",
    "\n",
    "Theoretically,\n",
    "\n",
    "$e_g\\propto V^n$,\n",
    "\n",
    "where $n$ is normally around 7.\n",
    "\n",
    "You will use your measurements recorded in Table 1, to determine the value of $n$ for yourself.\n",
    "\n",
    "Step 17. Enter your VALID measurements recorded in Table 1, as directed below."
   ]
  },
  {
   "cell_type": "code",
   "execution_count": null,
   "metadata": {
    "collapsed": true
   },
   "outputs": [],
   "source": [
    "#enter coarse gain as a 1-d Numpy array\n",
    "CG=np.array([])\n",
    "#enter high voltage values (V)\n",
    "HV=np.array([])\n",
    "#Enter peak channel number for 1.173MeV peak\n",
    "Cp1=np.array([])\n",
    "#Enter peak channel number for 1.332MeV peak\n",
    "Cp2=np.array([])"
   ]
  },
  {
   "cell_type": "markdown",
   "metadata": {},
   "source": [
    "Step 18. Refer to the second value stored in the variable \"linCal\". This is the fitted value of $C_0$ determined from your linear calibration between $C_p$ and $E_\\gamma$. \n",
    "\n",
    "Calculate the electron gain (EG) as $(C_p-C_0)/Coarse gain$ for each of the two main peaks in the Co-60 spectrum.\n",
    "(This quantity isn't actually electron gain, but is proportional to it.)\n",
    "\n",
    "Finally calculate the natural logarithms of the electron gains and the high voltage."
   ]
  },
  {
   "cell_type": "code",
   "execution_count": null,
   "metadata": {
    "collapsed": false
   },
   "outputs": [],
   "source": [
    "C0=linCal[1]\n",
    "#Complete\n",
    "EG1=(Cp1-C0)/CG\n",
    "EG2=\n",
    "#natural log of electron gains 1 and 2\n",
    "logEG1=np.log(EG1)\n",
    "logEG2=\n",
    "#natural log of high voltage\n",
    "logHV=np.log(HV)"
   ]
  },
  {
   "cell_type": "markdown",
   "metadata": {},
   "source": [
    "Step 19. Plot natural log of electron gain as a function of the natural log of the HV. Use different coloured markers for each series and add labels to the series."
   ]
  },
  {
   "cell_type": "code",
   "execution_count": null,
   "metadata": {
    "collapsed": false
   },
   "outputs": [],
   "source": [
    "#Plot logEG1 as a function of logHV and add label\n",
    "plt.plot()\n",
    "#plot logEG2 as a function of logHV and add label\n",
    "\n",
    "#add title\n",
    "\n",
    "#add x axis label\n",
    "\n",
    "#add y axis label\n",
    "\n",
    "#add legend\n",
    "\n"
   ]
  },
  {
   "cell_type": "markdown",
   "metadata": {},
   "source": [
    "Do the data points in the above two series approximately form two straight lines? If so,\n",
    "\n",
    "Step 20. Use polyfit to find the best fitting straight line to each of the series. \n",
    "\n",
    "Generate data from the best fitting lines using polyval.\n",
    "\n"
   ]
  },
  {
   "cell_type": "code",
   "execution_count": null,
   "metadata": {
    "collapsed": false
   },
   "outputs": [],
   "source": [
    "#use polyfit to fit polynomial of degree 1 for the main peak at 1.173MeV\n",
    "lineParamBF1=np.polyfit(logHV,logEG1,1)\n",
    "#print out the results to record\n",
    "print(lineParamBF1)\n",
    "#generate data points from the best fitting line using polyval\n",
    "lineBF1=np.polyval(lineParamBF1,logHV)\n",
    "#generate label for this best fitting line\n",
    "lineBF1_label=\"ln(Eg)={:.3f}ln(V)+{:.3f}\".format(lineParamBF1[0],lineParamBF1[1])\n",
    "#Repeat the above for the main peak at 1.332MeV\n",
    "\n",
    "\n",
    "\n",
    "\n",
    "\n",
    "\n"
   ]
  },
  {
   "cell_type": "markdown",
   "metadata": {},
   "source": [
    "Step 21. Plot your experimental data again (step 19.) but this time add in your two lines of best fits. Save the completed plot to a pdf file so you can print it out and stick it in your lab book."
   ]
  },
  {
   "cell_type": "code",
   "execution_count": null,
   "metadata": {
    "collapsed": false
   },
   "outputs": [],
   "source": [
    "#plot logEG1 as a function of logHV\n",
    "plt.plot()\n",
    "#plot line of best fit for logEG1 as a function of logHV\n",
    "plt.plot()\n",
    "#plot logEG2 as a function of logHV\n",
    "plt.plot()\n",
    "#plot line of best fit for logEG2 as a function of logHV\n",
    "plt.plot()\n",
    "\n",
    "#add title\n",
    "\n",
    "#add x axis label\n",
    "\n",
    "#add y axis label\n",
    "\n",
    "#add legend\n",
    "\n",
    "#save to an appropriately named pdf file\n",
    "plt.savefig(\"myplot.pdf\",dpi=300,orientation=\"landscape\")"
   ]
  },
  {
   "cell_type": "markdown",
   "metadata": {},
   "source": [
    "Step 22. The gradient of both lines are approximations of the same parameter $n$.\n",
    "\n",
    "Average your two fitted gradient values to get an average estimate of $n$.\n",
    "\n",
    "Take the absolute difference between your average estimate of $n$ and either of your fitted gradient values to estimate the uncertainty in your average estimate of $n$.\n",
    "\n",
    "Record both in your lab book."
   ]
  },
  {
   "cell_type": "code",
   "execution_count": null,
   "metadata": {
    "collapsed": true
   },
   "outputs": [],
   "source": [
    "#calculate average gradient to calculate average estimate of n\n",
    "ave_n=(lineParamBF1[0]+         )/2.\n",
    "#calculate absolute difference between ave_n and either individual estimate of n\n",
    "delta_n=np.abs(lineParamBF1[0]-ave_n)\n",
    "#print ave_n and delta_n to screen and record in your lab book\n",
    "print()"
   ]
  }
 ],
 "metadata": {
  "kernelspec": {
   "display_name": "Python 3",
   "language": "python",
   "name": "python3"
  },
  "language_info": {
   "codemirror_mode": {
    "name": "ipython",
    "version": 3
   },
   "file_extension": ".py",
   "mimetype": "text/x-python",
   "name": "python",
   "nbconvert_exporter": "python",
   "pygments_lexer": "ipython3",
   "version": "3.6.0"
  }
 },
 "nbformat": 4,
 "nbformat_minor": 2
}
