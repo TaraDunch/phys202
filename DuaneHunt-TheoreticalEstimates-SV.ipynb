{
 "cells": [
  {
   "cell_type": "markdown",
   "metadata": {},
   "source": [
    "# Theoretical Estimates"
   ]
  },
  {
   "cell_type": "markdown",
   "metadata": {},
   "source": [
    "Complete this python notebook to theoretically estimate the minimum X-ray wavelength and its angle of diffraction for the X-ray Tube voltages you will use in this experiment.\n",
    "\n",
    "Step 1. Import numpy and pyplot from matplotlib. Also call the command that ensures matplotlib plots happen inline, within the current window."
   ]
  },
  {
   "cell_type": "code",
   "execution_count": null,
   "metadata": {
    "collapsed": true
   },
   "outputs": [],
   "source": [
    "#you can just run this cell\n",
    "import numpy as np\n",
    "import matplotlib.pyplot as plt\n",
    "%matplotlib inline"
   ]
  },
  {
   "cell_type": "markdown",
   "metadata": {},
   "source": [
    "Step 2. Enter the accepted values of Planck's constant, $h$, the speed of light in a vacuum, $c$, and the charge on an electron, $e$. Then use Equation (5) in the notes to calculate the constant of proportionality (COP) betweeen $\\lambda_{min}$ and the reciprocal of the X-ray tube voltage, $1/U$."
   ]
  },
  {
   "cell_type": "code",
   "execution_count": null,
   "metadata": {
    "collapsed": true
   },
   "outputs": [],
   "source": [
    "h=\n",
    "c=\n",
    "e=\n",
    "COP="
   ]
  },
  {
   "cell_type": "markdown",
   "metadata": {},
   "source": [
    "Step 3. Enter the 8 different values that the X-ray tube voltage will take in your experiment, shown in Table 1 in the notes. Then calculate the corresponding $\\lambda_{min}$ expected from Equation (5)."
   ]
  },
  {
   "cell_type": "code",
   "execution_count": null,
   "metadata": {
    "collapsed": true
   },
   "outputs": [],
   "source": [
    "#Enter 8 voltage values from Table 1 in volts.\n",
    "U=np.array([])\n",
    "#Use Equation (5) to calculate the corresponding minimum wavelengths of Bremmstrahlung. The result will be in metres.\n",
    "lambda_min="
   ]
  },
  {
   "cell_type": "markdown",
   "metadata": {},
   "source": [
    "Step 4. Calculate the diffraction angles at which you would expect to detect these wavelengths using Equation (6) in the notes. The lattice spacing of the NaCl crystral used as the diffraction target has already been set for you ($d=282.01pm$)."
   ]
  },
  {
   "cell_type": "code",
   "execution_count": null,
   "metadata": {
    "collapsed": true
   },
   "outputs": [],
   "source": [
    "d=282.01*10**(-12)\n",
    "#Transform Equation (6) to make theta the subject, then complete the expression below to compute the angles in radian.\n",
    "theta_rad=\n",
    "#Now you need to convert your theta values from radians into degrees.\n",
    "theta_deg="
   ]
  },
  {
   "cell_type": "markdown",
   "metadata": {},
   "source": [
    "Step 5. Print out your voltages, their corresponding $\\lambda_{min}$ values and their $\\theta$ values in degrees and write them in a table in your lab book. "
   ]
  },
  {
   "cell_type": "code",
   "execution_count": null,
   "metadata": {
    "collapsed": true
   },
   "outputs": [],
   "source": [
    "#print voltages\n",
    "print()\n",
    "#print lambda_min\n",
    "print()\n",
    "#print theta_deg\n",
    "print()"
   ]
  }
 ],
 "metadata": {
  "kernelspec": {
   "display_name": "Python 3",
   "language": "python",
   "name": "python3"
  },
  "language_info": {
   "codemirror_mode": {
    "name": "ipython",
    "version": 3
   },
   "file_extension": ".py",
   "mimetype": "text/x-python",
   "name": "python",
   "nbconvert_exporter": "python",
   "pygments_lexer": "ipython3",
   "version": "3.6.0"
  }
 },
 "nbformat": 4,
 "nbformat_minor": 2
}
