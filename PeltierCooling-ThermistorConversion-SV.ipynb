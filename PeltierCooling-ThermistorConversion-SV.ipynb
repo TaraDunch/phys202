{
 "cells": [
  {
   "cell_type": "markdown",
   "metadata": {},
   "source": [
    "# Peltier Cooling Thermistor Conversion"
   ]
  },
  {
   "cell_type": "markdown",
   "metadata": {},
   "source": [
    "You will measure the temperature of the thermal reservoirs indirectly using the variable resistance of a thermistor. A conversion chart from k$\\Omega$ to $^\\circ$C is supplied in your laboratory notes.\n",
    "\n",
    "There are two methods of obtaining measurements which lie between the data points of the chart:\n",
    "1. Linear interpolation between points.\n",
    "2. Finding an appropriate functional fit for the behaviour.\n",
    "\n",
    "Both methods are explored in this notebook. You only need to complete your preferred method to convert your resistance measurements into temperatures."
   ]
  },
  {
   "cell_type": "code",
   "execution_count": null,
   "metadata": {
    "collapsed": true
   },
   "outputs": [],
   "source": [
    "# First, we import maths tools:\n",
    "import numpy as np\n",
    "import matplotlib.pyplot as plt\n",
    "%matplotlib inline\n",
    "from scipy.optimize import curve_fit"
   ]
  },
  {
   "cell_type": "code",
   "execution_count": null,
   "metadata": {
    "collapsed": false
   },
   "outputs": [],
   "source": [
    "# We create an array containing the data points in the table, and then plot to observe the behaviour:\n",
    "T = np.linspace(-5,104,num=110)\n",
    "R = np.array([461,436,413,391,370,351,332,315,298,283,269,255,242,230,218,207,197,187,178,169,161,153,146,139,133,125,120,115,\n",
    "             109,104,100,95.4,91.1,87.0,83.1,79.4,75.9,72.5,69.3,66.3,63.4,60.7,58.1,55.6,53.2,51.0,48.9,46.8,44.9,43.0,41.2,\n",
    "             39.6,37.9,36.4,34.9,33.5,32.2,30.9,29.7,28.5,27.4,26.4,25.3,24.4,23.4,22.5,21.7,20.9,20.1,19.3,18.6,17.9,17.3,\n",
    "             16.6,16.0,15.5,14.9,14.4,13.8,13.4,12.9,12.4,12.0,11.6,11.2,10.8,10.4,10.1,9.76,9.43,9.12,8.81,8.52,8.24,7.96,\n",
    "             7.70,7.45,7.21,6.98,6.75,6.53,6.33,6.12,5.93,5.74,5.56,5.39,5.22,5.06,4.91])\n",
    "plt.plot(R,T)\n",
    "plt.ylabel('Temperature ($^\\circ$C)')\n",
    "plt.xlabel('Resistance (k$\\Omega$)')\n",
    "plt.suptitle('Temperature Profile of Thermistor')"
   ]
  },
  {
   "cell_type": "markdown",
   "metadata": {},
   "source": [
    "Enter your experimental resistance measurements into a Numpy array rExp."
   ]
  },
  {
   "cell_type": "code",
   "execution_count": null,
   "metadata": {
    "collapsed": true
   },
   "outputs": [],
   "source": [
    "rExp = np.array([])"
   ]
  },
  {
   "cell_type": "markdown",
   "metadata": {},
   "source": [
    "Now proceed by completing EITHER Method 1: Linear Interpolation or Method 2: Functional Fit"
   ]
  },
  {
   "cell_type": "markdown",
   "metadata": {},
   "source": [
    "<b> Method 1: Linear Interpolation</b>"
   ]
  },
  {
   "cell_type": "markdown",
   "metadata": {},
   "source": [
    "Make an blank temperature array by running the next cell."
   ]
  },
  {
   "cell_type": "code",
   "execution_count": null,
   "metadata": {
    "collapsed": true
   },
   "outputs": [],
   "source": [
    "tExp = np.array([])"
   ]
  },
  {
   "cell_type": "markdown",
   "metadata": {},
   "source": [
    "Using two nested \"for\" loops and a conditional statement (remember the else statement), code the linear interpolation process explained in the laboratory notes."
   ]
  },
  {
   "cell_type": "code",
   "execution_count": null,
   "metadata": {
    "collapsed": true
   },
   "outputs": [],
   "source": [
    "for i in range (len(rExp)):\n",
    "    for j in range(0,109):\n",
    "        if rExp[i] >    :\n",
    "            interp = \n",
    "            temp = \n",
    "            tExp = np.append(tExp,temp)\n",
    "            break\n",
    "        else:\n",
    "            continue"
   ]
  },
  {
   "cell_type": "markdown",
   "metadata": {},
   "source": [
    "Finally print out the resulting temperatures in $(^\\circ C)$ and in $(K)$ and record these results in your lab book."
   ]
  },
  {
   "cell_type": "code",
   "execution_count": null,
   "metadata": {
    "collapsed": true
   },
   "outputs": [],
   "source": [
    "#print out temp results in degrees C\n",
    "print(tExp)\n",
    "#print out temp results in Kelvin\n",
    "print()"
   ]
  },
  {
   "cell_type": "markdown",
   "metadata": {},
   "source": [
    "You will need to estimate the error in your calculations. It is important to remember that an interpolation will INCREASE the relative error in your measurements, and you will need to factor this into your consideration."
   ]
  },
  {
   "cell_type": "markdown",
   "metadata": {},
   "source": [
    "<b>Method 2: Functional Fit</b>"
   ]
  },
  {
   "cell_type": "markdown",
   "metadata": {},
   "source": [
    "Thermistors are very commonly described using the Steinhart-Hart Equation:\n",
    "\n",
    "$\\frac{1}{T} = a+b\\ln(R)+c\\ln^3(R)$\n",
    "\n",
    "For $T$ in Kelvin and $R$ in Ohms."
   ]
  },
  {
   "cell_type": "markdown",
   "metadata": {},
   "source": [
    "First, using a function which takes as arguments, the variable R, and then the parameters a,b & c, \"create\" the equation T(R) by the value of the equation given the inputs:"
   ]
  },
  {
   "cell_type": "code",
   "execution_count": null,
   "metadata": {
    "collapsed": true
   },
   "outputs": [],
   "source": [
    "#you can just run this cell\n",
    "def temp(R,a,b,c):\n",
    "    return 1/(a+b*np.log(R)+c*(np.log(R))**3)"
   ]
  },
  {
   "cell_type": "markdown",
   "metadata": {},
   "source": [
    "Using the scipy function curve_fit, fit the above equation to the table, remembering to convert to the correct units. You may need to look up the Wikipedia page for \"Thermistor\" to find typical values of a,b & c in order to use the \"bounds\" argument of curve_fit"
   ]
  },
  {
   "cell_type": "code",
   "execution_count": null,
   "metadata": {
    "collapsed": false,
    "scrolled": true
   },
   "outputs": [],
   "source": [
    "param,covparam = curve_fit(temp,1000*R,T+273.15,bounds=(0,[    ,   ,   ]))\n",
    "a=param[0]\n",
    "b=param[1]\n",
    "c=param[2]\n",
    "print(\"a = {}, b = {}, c = {}\".format( , , ))\n",
    "\n",
    "plt.plot(R,temp(1000*R,a,b,c)-273.15,'r-',label='fit')\n",
    "plt.plot(R,T,'bx')\n",
    "\n",
    "#add ylabel\n",
    "\n",
    "#add xlabel\n",
    "\n",
    "#add title\n",
    "\n"
   ]
  },
  {
   "cell_type": "markdown",
   "metadata": {},
   "source": [
    "We want to check the quality of the fit. We will estimate the uncertainty in our fit using the standard deviation in the fitted parameters."
   ]
  },
  {
   "cell_type": "code",
   "execution_count": null,
   "metadata": {
    "collapsed": false
   },
   "outputs": [],
   "source": [
    "deltaParam = np.sqrt(np.diag(covparam))\n",
    "print(\"sigma_a = {}, sigma_b = {}, sigma_c = {}\".format(deltaParam[0],deltaParam[1],deltaParam[2]))"
   ]
  },
  {
   "cell_type": "markdown",
   "metadata": {},
   "source": [
    "Using this fit, you can now calculate the temperature of the thermal reservoirs directly using the model and your array of resistance measurements rExp. Remember to estimate uncertainty in tExp values due to the uncertainty in rExp values and the uncertainty in the parameters fitted to the model. "
   ]
  },
  {
   "cell_type": "code",
   "execution_count": null,
   "metadata": {
    "collapsed": true
   },
   "outputs": [],
   "source": [
    "tExp= "
   ]
  }
 ],
 "metadata": {
  "kernelspec": {
   "display_name": "Python 3",
   "language": "python",
   "name": "python3"
  },
  "language_info": {
   "codemirror_mode": {
    "name": "ipython",
    "version": 3
   },
   "file_extension": ".py",
   "mimetype": "text/x-python",
   "name": "python",
   "nbconvert_exporter": "python",
   "pygments_lexer": "ipython3",
   "version": "3.6.0"
  }
 },
 "nbformat": 4,
 "nbformat_minor": 2
}
