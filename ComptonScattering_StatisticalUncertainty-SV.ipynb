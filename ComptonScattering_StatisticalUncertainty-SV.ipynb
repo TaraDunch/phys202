{
 "cells": [
  {
   "cell_type": "markdown",
   "metadata": {},
   "source": [
    "# Calculating statistical uncertainty for Compton scattering"
   ]
  },
  {
   "cell_type": "markdown",
   "metadata": {},
   "source": [
    "This notebook will guide you through the calculation of the statistical uncertainty in your experimental estimate of the Compton wavelength shift. \n",
    "\n",
    "Step 1. Import numpy and pyplot from matplotlib. Also call the command that ensures matplotlib plots happen inline, within the current window."
   ]
  },
  {
   "cell_type": "code",
   "execution_count": null,
   "metadata": {
    "collapsed": true
   },
   "outputs": [],
   "source": [
    "#you can just run this cell\n",
    "import numpy as np\n",
    "import matplotlib.pyplot as plt\n",
    "%matplotlib inline"
   ]
  },
  {
   "cell_type": "markdown",
   "metadata": {},
   "source": [
    "In the Compton scattering experiment, you have measured four different count rates, $R_0, R_1, R_2$ and $R_{background}$. \n",
    "\n",
    "Each of these measurements is a sample measurement of a statistical process, meaning that if you measured them again, there would be some variation to the measurements - not because of some malfunction of the counting device but because the actual number of counts varies because it is a random, statistical process. The Poisson distribution is an appropriate model for how these count rates vary statistically. \n",
    "\n",
    "A Poisson distribution with a population mean of $\\mu$ has a standard deviation of $\\sigma=\\sqrt{\\mu}$. For the count rate $R_0$, this means its Poisson distribution has a population mean of $\\mu_{R_0}$ and a standard deviation of $\\sqrt{\\mu_{R_0}}$.\n",
    "\n",
    "Now your measurement of the average count rate over a time interval, $\\bar{R_0}$, for example, can be thought of as a sample mean of its Poisson distribution. It's an estimate of the 'true' mean, or population mean, of the distribution, but you can't say they are exactly the same because you only used a finite number of measurements of $R_0$ to determine $\\bar{R_0}$, over a short time interval. There is statistical uncertainty as $\\bar{R_0}$ as an estimate of $\\mu_{R_0}$. This uncertainty is known in statistics as \"standard error\". \n",
    "\n",
    "In general, the smaller the sample size used to calculate the sample mean, the larger its statistical uncertainty  (standard error) at being a good estimate of the population mean. Also the statistical uncertainty is larger if the original Poisson distribution has larger standard deviation. Standard error (SE) is calculated by taking the standard deviation of the Poisson distribution and dividing by the square root of the number of samples you used to calculate the sample mean. For $SE_{R_0}$ this translates to\n",
    "\n",
    "$SE_{R_0}=\\sqrt{\\dfrac{\\mu_{R_0}}{\\Delta t_{R_0}}}\\approx\\sqrt{\\dfrac{\\bar{R_0}}{\\Delta t_{R_0}}}.$\n",
    "\n",
    "We don't actually know the standard deviation for the statistical population, so we approximate it with the sample mean $\\bar{R_0}$ in the above equation. In the above equation SE decreases with the length of time we measured the count rate over because this translates to a larger sample size.\n",
    "\n",
    "The same is true of the statistical uncertainty (standard error) in each of your measured count rates $R_1, R_2$ and $R_b$."
   ]
  },
  {
   "cell_type": "markdown",
   "metadata": {},
   "source": [
    "Step 2. Define a function \"calculate_SE\" that will take the \"count_rate\" and the \"time_interval\" as arguments and return the calculated statistical uncertainty (statistical error) in the sample count rate."
   ]
  },
  {
   "cell_type": "code",
   "execution_count": null,
   "metadata": {
    "collapsed": true
   },
   "outputs": [],
   "source": [
    "def calculate_SE():\n",
    "    "
   ]
  },
  {
   "cell_type": "markdown",
   "metadata": {},
   "source": [
    "Enter your measured values of count rate $\\bar{R_0}, \\bar{R_1}, \\bar{R_2}$ and $\\bar{R_b}$ and the time intervals over which you measured them."
   ]
  },
  {
   "cell_type": "code",
   "execution_count": null,
   "metadata": {
    "collapsed": true
   },
   "outputs": [],
   "source": [
    "R_0=\n",
    "delta_T_0=\n",
    "R_1=\n",
    "delta_T_1=\n",
    "R_2=\n",
    "delta_T_2=\n",
    "R_b=\n",
    "delta_T_b=\n"
   ]
  },
  {
   "cell_type": "markdown",
   "metadata": {},
   "source": [
    "Step 3. Now use the your calculate_SE function to calculate the uncertainty in each of your count rates. Print the values to screen so you can write them into your lab book."
   ]
  },
  {
   "cell_type": "code",
   "execution_count": null,
   "metadata": {
    "collapsed": true
   },
   "outputs": [],
   "source": [
    "SE_R0=\n",
    "print()\n",
    "SE_R1=\n",
    "print()\n",
    "SE_R2=\n",
    "print()\n",
    "SE_Rb=\n",
    "print()"
   ]
  },
  {
   "cell_type": "markdown",
   "metadata": {},
   "source": [
    "The statistical uncertainties in the count rates $\\bar{R_0}, \\bar{R_1}, \\bar{R_2}$ and $\\bar{R_b}$ impact the statistical uncertainty of your experimental estimate of the x-ray wavelength shift $\\Delta\\lambda$. \n",
    "\n",
    "Before we get further into calculating that statistical uncertainty, we would like to get an explicit expression for $\\Delta\\lambda$ in terms of $R_0, R_1, R_2$ and $R_b$. This is a bit tricky and messy. For those who like details, here it is!!\n",
    "\n",
    "Since:\n",
    "\n",
    "$T_1=\\frac{(R_1-R_b)}{(R_0-R_b)}\\\\\n",
    "\\ln{T_1}=\\ln{(R_1-R_b)}-\\ln{(R_0-R_b)}\\\\\n",
    "\\text{Similarly,}\\\\ \\ln{T_2}=\\ln{(R_2-R_b)}-\\ln{(R_0-R_b)}.$\n",
    "\n",
    "We also know that:\n",
    "\n",
    "$T_1=\\exp{(-a(\\frac{\\lambda_1}{100})^n)}\\\\\n",
    "\\ln{T_1}=-a(\\frac{\\lambda_1}{100})^n\\\\\n",
    "\\text{so } \\lambda_1=100(\\frac{-\\ln{T_1}}{(a)})^{1/n}.$\n",
    "\n",
    "\n",
    "Similarly:\n",
    "\n",
    "$\\lambda_2=100(\\frac{-\\ln{T_2}}{a})^{1/n}.$\n",
    "\n",
    "Now: \n",
    "\n",
    "$\\Delta\\lambda=\\lambda_2-\\lambda_1\\\\\n",
    "\\Delta\\lambda=100a^{-1/n}((-\\ln{T_2})^{1/n}-(-\\ln{T_1})^{1/n}).$\n",
    "\n",
    "We already have an expression for $\\ln{T_1}$ and $\\ln{T_2}$ in terms of $R_0, R_1, R_2, R_b$, so we can substitute that in.\n",
    "\n",
    "$\\begin{equation*}\\Delta\\lambda=100a^{-1/n}((\\ln{(R_0-R_b)}-\\ln{(R_2-R_b)})^{1/n}-(\\ln{(R_0-R_b)}-\\ln{(R_1-R_b)})^{1/n})\\\\\n",
    "\\text{where } a=7.6 \\text{ and } n=2.75.\\end{equation*}$\n",
    "\n"
   ]
  },
  {
   "cell_type": "markdown",
   "metadata": {},
   "source": [
    "Step 4. In the next cell calculate the wavelength shift $\\Delta\\lambda$ using the last formula given, (directly above this cell) and your variables R_0, R_1, R_2 and R_b, then print it to screen and check it against the earlier calculation you made in your lab book."
   ]
  },
  {
   "cell_type": "code",
   "execution_count": null,
   "metadata": {
    "collapsed": true
   },
   "outputs": [],
   "source": [
    "a=7.6\n",
    "n=2.75\n",
    "#Complete the calculating of Deltalambda using the above equation\n",
    "Deltalambda=\n",
    "#complete print statement to print value to screen\n",
    "print()"
   ]
  },
  {
   "cell_type": "markdown",
   "metadata": {},
   "source": [
    "By looking at equation above for $\\Delta\\lambda$, you can see it is a function of several variables - it depends on four variables $R_0, R_1, R_2$ and $R_b$. The general rule for calculating the statistical uncertainty in $q$ which depends on independent random variables $x,y,\\text{ and }z$ is:\n",
    "\n",
    "$\\sigma_q=\\sqrt{(\\frac{\\partial q}{\\partial x}\\sigma_x)^2+(\\frac{\\partial q}{\\partial y}\\sigma_y)^2+(\\frac{\\partial q}{\\partial z}\\sigma_z)^2}\\\\\n",
    "\\text{where } \\frac{\\partial q}{\\partial x} \\text{ is the partial derivative of } q \\text{ with respect to }x.$\n",
    "\n",
    "So applying this rule to $\\Delta\\lambda$ we get:\n",
    "\n",
    "$\\sigma_{\\Delta\\lambda}=\\sqrt{(\\frac{\\partial \\Delta\\lambda}{\\partial R_0}SE_{R_0})^2+(\\frac{\\partial \\Delta\\lambda}{\\partial R_1}SE_{R_1})^2+(\\frac{\\partial \\Delta\\lambda}{\\partial R_2}SE_{R_2})^2+(\\frac{\\partial \\Delta\\lambda}{\\partial R_b}SE_{R_b})^2}$,\n",
    "\n",
    "where the standard error you calculated earlier represent the uncertainty in our sample means $\\bar{R_0}$, etc.\n"
   ]
  },
  {
   "cell_type": "markdown",
   "metadata": {},
   "source": [
    "Taking the partial derivative of equation for $\\Delta\\lambda$ is tedious. Let's skip to the result and get on with the calculation!\n",
    "\n",
    "$\\frac{\\partial \\Delta\\lambda}{\\partial R_0}=\\frac{100a^{-1/n}}{n(R_0-R_b)}((\\ln{(R_0-R_b)}-\\ln{(R_2-R_b)})^{(1/n-1)}-(\\ln{(R_0-R_b)}-\\ln{(R_1-R_b)})^{(1/n-1)})\\\\\n",
    "\\frac{\\partial \\Delta\\lambda}{\\partial R_1}=\\frac{100a^{-1/n}}{n(R_1-R_b)}(\\ln{(R_0-R_b)}-\\ln{(R_1-R_b)})^{(1/n-1)}\\\\\n",
    "\\frac{\\partial \\Delta\\lambda}{\\partial R_2}=\\frac{100a^{-1/n}}{-n(R_2-R_b)}(\\ln{(R_0-R_b)}-\\ln{(R_2-R_b)})^{(1/n-1)}\\\\\n",
    "\\frac{\\partial \\Delta\\lambda}{\\partial R_b}=\\frac{100a^{-1/n}}{n}\\left(\\left(\\frac{1}{R_2-R_b}-\\frac{1}{R_0-R_b}\\right)\\left(\\ln\\left(R_0-R_b\\right)-\\ln\\left(R_2-R_b\\right)\\right)^{1/n-1}-\\left(\\frac{1}{R_1-R_b}-\\frac{1}{R_0-R_b}\\right)\\left(\\ln\\left(R_0-R_b\\right)-\\ln\\left(R_1-R_b\\right)\\right)^{1/n-1}\\right)$"
   ]
  },
  {
   "cell_type": "markdown",
   "metadata": {},
   "source": [
    "Step 5. In the next cell, carefully translate these formula for the partial derivatives into code to calculate the values of each from your experimental measurements. (The last one has been done in stages for you already!)"
   ]
  },
  {
   "cell_type": "code",
   "execution_count": null,
   "metadata": {
    "collapsed": true
   },
   "outputs": [],
   "source": [
    "#Calculating partial derivative of wavelength shift with respect to (wrt) R_0\n",
    "partial_wrt_R_0=\n",
    "#Calculating partial derivative of wavelength shift with respect to R_1\n",
    "partial_wrt_R_1=\n",
    "#Calculating partial derivative of wavelength shift with respect to R_2\n",
    "partial_wrt_R_2=\n",
    "#Calculating partial derivative of wavelength shift with respect to R_b\n",
    "partial_wrt_R_b=(100*(a**(-1/n))/(n))*((1/(R_2-R_b) - 1/(R_0-R_b))*(np.log(R_0-R_b)-np.log(R_2-R_b))**(1/n - 1) - (1/(R_1-R_b) - 1/(R_0-R_b))*(np.log(R_0-R_b)-np.log(R_1-R_b))**(1/n - 1))"
   ]
  },
  {
   "cell_type": "markdown",
   "metadata": {},
   "source": [
    "Step 6. Now that you have calculated the partial derivative of wavelength shift with respect to each of your count rate measurements, write a function that calculates the contribution of one measurement to the statistical uncertainty of the wavelength shift. The function will need to take the partial derivative for that variable and its SE value.\n"
   ]
  },
  {
   "cell_type": "code",
   "execution_count": null,
   "metadata": {
    "collapsed": true
   },
   "outputs": [],
   "source": [
    "def calculateUncertaintyContribution(partialDeriv, SE):\n",
    "#Fill in the calculation for one squared term contribution to the total uncertainty\n"
   ]
  },
  {
   "cell_type": "markdown",
   "metadata": {},
   "source": [
    "Step 7. Now calculate the uncertainty contribution (uc) of each of your count rates using your function and print them to screen so you can write them in your lab book. We've given the example for the uncertainty contribution of $\\bar{R_0}$.\n"
   ]
  },
  {
   "cell_type": "code",
   "execution_count": null,
   "metadata": {
    "collapsed": true
   },
   "outputs": [],
   "source": [
    "uc_R_0=calculateUncertaintyContribution(partial_wrt_R_0,SE_R0)\n",
    "print()\n",
    "uc_R_1=\n",
    "print()\n",
    "uc_R_2=\n",
    "print()\n",
    "uc_R_b=\n",
    "print()"
   ]
  },
  {
   "cell_type": "markdown",
   "metadata": {},
   "source": [
    "Step 8. Note in your lab books which measurement(s) contributed the biggest uncertainty term(s)?\n",
    "Hence, if you had to improve the uncertainty in wavelength shift, which terms would you measure with greater accuracy (certainty) and how would you do this?\n",
    "\n",
    "Finally run the last cell to calculate the total statistical uncertainty in wavelength shift and write it in your lab book. "
   ]
  },
  {
   "cell_type": "code",
   "execution_count": null,
   "metadata": {
    "collapsed": false
   },
   "outputs": [],
   "source": [
    "sigma_deltaLambda=np.sqrt(uc_R_0+uc_R_1+uc_R_2+uc_R_b)\n",
    "print(\"sigma_Deltalambda={}\".format(sigma_deltaLambda))"
   ]
  }
 ],
 "metadata": {
  "kernelspec": {
   "display_name": "Python 3",
   "language": "python",
   "name": "python3"
  },
  "language_info": {
   "codemirror_mode": {
    "name": "ipython",
    "version": 3
   },
   "file_extension": ".py",
   "mimetype": "text/x-python",
   "name": "python",
   "nbconvert_exporter": "python",
   "pygments_lexer": "ipython3",
   "version": "3.6.0"
  }
 },
 "nbformat": 4,
 "nbformat_minor": 2
}
