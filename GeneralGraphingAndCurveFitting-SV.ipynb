{
 "cells": [
  {
   "cell_type": "markdown",
   "metadata": {},
   "source": [
    "# General graphing and curve fitting in python."
   ]
  },
  {
   "cell_type": "markdown",
   "metadata": {},
   "source": [
    "The purpose of this python notebook is as a quick-start guide in graphing and curving fitting for the student who has not completed the python laboratory classes from PHYS201 before starting the PHYS202 laboratory classes.\n",
    "\n",
    "To begin with, you need to import the python packages needed for plotting data and curve fitting."
   ]
  },
  {
   "cell_type": "code",
   "execution_count": null,
   "metadata": {
    "collapsed": true
   },
   "outputs": [],
   "source": [
    "#run this cell\n",
    "import numpy as np\n",
    "import matplotlib.pyplot as plt\n",
    "\n",
    "from scipy.optimize import curve_fit\n",
    "\n",
    "%matplotlib inline"
   ]
  },
  {
   "cell_type": "markdown",
   "metadata": {},
   "source": [
    "Let's assume that you have a set of experimental measurements, $y$, that you suspect depend on another set of experimental measurements $x$. Because these are experimental measurements, they each have estimated uncertainties of $\\delta y$ and $\\delta x$ respectively.\n",
    "\n",
    "Edit the cell below to enter your own experimental measurements $y$, $x$, $\\delta y$ and $\\delta x$. Individual entries need to be separated by commas within an array. Be careful that each Numpy array has the same number of entries as the others."
   ]
  },
  {
   "cell_type": "code",
   "execution_count": null,
   "metadata": {
    "collapsed": false
   },
   "outputs": [],
   "source": [
    "y=np.array([3,4.4e2,6.5e4,9.7e6,1.44e9])\n",
    "delta_y=np.array([1,6,6.5e2,9.7e4,1.44e7])\n",
    "x=np.array([1,2,3,4,5])\n",
    "delta_x=np.array([0.1,0.1,0.1,0.1,0.1])"
   ]
  },
  {
   "cell_type": "markdown",
   "metadata": {},
   "source": [
    "You controlled the $x$ values in the experiment, so $x$ is the independent variable and $y$ depends on $x$, so $y$ is the dependent variable. Traditionally this means that $x$ is plotted on the horizontal axis and $y$ is plotted on the vertical axis.\n",
    "\n",
    "To plot data points on a set of axes, as well as error bars to show the size of their uncertainties, we use the function \"errorbar\" from matplotlib.\n",
    "\n",
    "Read the comments in the next cell before running it to understand what is happening at each stage of the plotting."
   ]
  },
  {
   "cell_type": "code",
   "execution_count": null,
   "metadata": {
    "collapsed": false
   },
   "outputs": [],
   "source": [
    "#plotting data points as red dots and their error bars as black lines. Don't join the data points with a line.\n",
    "plt.errorbar(x,y,xerr=delta_x, yerr=delta_y,c=\"r\",marker=\".\",ecolor=\"k\",ls=\"none\",label=\"Expt data\")\n",
    "#add x axis label\n",
    "plt.xlabel(\"$x$\")\n",
    "#add y axis label\n",
    "plt.ylabel(\"$y$\",rotation=\"horizontal\")\n",
    "#add title at the top of the graph\n",
    "plt.suptitle(\"$y$ as a function of $x$\")\n",
    "#add a legend formed from the label you gave in \"errorbar\" command\n",
    "plt.legend()"
   ]
  },
  {
   "cell_type": "markdown",
   "metadata": {},
   "source": [
    "Once you have plotted your experimental data, hopefully you'll see some sort of trend between the $y$ coordinates and the $x$ coordinates. Given your general knowledge of the shape of functions like exponentials, power curves, sinusoidal functions (sine, cosine, etc.) and polynomials (straight line, parabola, cubic, etc.), what function do you think could make a good fit?"
   ]
  },
  {
   "cell_type": "markdown",
   "metadata": {},
   "source": [
    "## A polynomial? "
   ]
  },
  {
   "cell_type": "markdown",
   "metadata": {},
   "source": [
    "If you suspect there's a polynomial relationship between the two, then you can use a Numpy function called polyfit to determine the best fitting parameters of a polynomial to your data. You, however, need to specify the degree of the polynomial you think is appropriate; degree 1 is a straight line, degree 2 is a quadratic, degree 3 is a cubic, etc.\n",
    "\n",
    "Polyfit will determine fitted parameters for your polynomial of choice, and return them in a 1-d array, the parameter associated with the highest degree term first.\n",
    "\n",
    "When fitting polyfit takes into account the uncertainties in the $y$ data and weights each data point's influence on the fit using the tag w. By setting w=1/delta_y it will place more importance on data points with less uncertainty and less importance on data points with greater uncertainty.\n",
    "\n",
    "Polyfit can also return a covariance matrix if you set the flag cov=\"True\" which can be used to determine the uncertainty in fitted parameters. However it won't be able to compute a covariance matrix if you don't give it enough data. For a degree $n$ polynomial, you need to give it more than $n+1$ data points, otherwise it's exactly determined with no uncertainty. It may also have problems if your data is a perfect polynomial fit - again there'll be no uncertainty in the fitted parameters. However this is very unlikely to happen when you are fitted real experimental data.\n",
    "\n",
    "Assuming there is no correlation between the uncertainties in the fitted parameters, you can estimate the uncertainty in each by taking the diagonal elements of the covariance matrix (which correspond to the variance in each), then take the square root of them to get to the standard deviation. You can either express uncertainty in the fitted parameters by their standard deviation, or assuming they follow a Normal distribution, you can say with 95% confidence that the real value of the parameters lies within $\\pm 1.96\\sigma\\approx 2\\sigma$ and so express uncertainty as two times the standard deviation.\n",
    "\n",
    "Edit the commands below to suit your polynomial fitting."
   ]
  },
  {
   "cell_type": "code",
   "execution_count": null,
   "metadata": {
    "collapsed": false
   },
   "outputs": [],
   "source": [
    "#edit the degree of the polynomial to a suitable value. Currently it is set to fit a straight line.\n",
    "param,cov=np.polyfit(x,y,deg=1,cov=\"True\",w=1/delta_y)\n",
    "#calculating standard deviation of fitted parameters\n",
    "sd_param=np.sqrt(np.diag(cov))\n",
    "#print out fitting parameters and their uncertainty in terms of +/- 2 standard deviations.\n",
    "print(\"fitted polynomial parameters are:\")\n",
    "print(param)\n",
    "print(\"uncertainty in fitted polynomial parameters are:\")\n",
    "print(2*sd_param)"
   ]
  },
  {
   "cell_type": "markdown",
   "metadata": {},
   "source": [
    "You can add a plot of your fitted polynomial to your graph of experimental results in a few steps. \n",
    "\n",
    "First you generate a set of points on the fitted polynomial using Numpy's polyval function, as shown below.\n",
    "\n",
    "It is helpful to produce a string of its actual equation that can be used as a label in the graph's legend.\n",
    "\n",
    "Then you plot it with a regular plot function. That's what we've done below. "
   ]
  },
  {
   "cell_type": "code",
   "execution_count": null,
   "metadata": {
    "collapsed": false
   },
   "outputs": [],
   "source": [
    "#generating a set of y values on fitted polynomial\n",
    "fpy=np.polyval(param,x)\n",
    "#make a string containing the equation of this polynomial - edit if your polynomial is not a straight line!\n",
    "fplabel=\"y={:.2E}x+{:.2E}\".format(param[0],param[1])\n",
    "#replot experimental data as before\n",
    "plt.errorbar(x,y,xerr=delta_x, yerr=delta_y,c=\"r\",marker=\".\",ecolor=\"k\",ls=\"none\",label=\"Expt data\")\n",
    "#plot fitted polynomial just as a line and include its label. We've also chosen to make the line green, but that's optional\n",
    "plt.plot(x,fpy,'g',label=fplabel)\n",
    "#add x axis label\n",
    "plt.xlabel(\"$x$\")\n",
    "#add y axis label\n",
    "plt.ylabel(\"$y$\",rotation=\"horizontal\")\n",
    "#add title at the top of the graph\n",
    "plt.suptitle(\"$y$ as a function of $x$\")\n",
    "#add a legend formed from the label you gave in \"errorbar\" command\n",
    "plt.legend()\n",
    "#you can save this figure to an external pdf file that you can print out later by the following command.\n",
    "#just change the filename to something that is meaningful.\n",
    "plt.savefig(\"myplot.pdf\",dpi=300,orientation=\"landscape\")"
   ]
  },
  {
   "cell_type": "markdown",
   "metadata": {},
   "source": [
    "## Some other function than a polynomial? "
   ]
  },
  {
   "cell_type": "markdown",
   "metadata": {},
   "source": [
    "If you suspect the function that best fits your data is something other than a polynomial; an exponential, a power curve or a sinusoidal function, for example, you can use a curve fitting function from the scipy.optimize package, which we imported in the first cell of this notebook as \"curve_fit\". \n",
    "\n",
    "This \"curve_fit\" needs you to give it the actual function you want to fit to your data, so you need to start by defining that function, along with its associated parameters.\n",
    "\n",
    "Below we give examples of three functions - one for a general exponential of the form $y=A\\exp{kx}+b$, where $A, k$ and $b$ are parameters,\n",
    "\n",
    "one for a general power function of the form $y=Cx^n+b$, where $C, n$ and $b$ are parameters,\n",
    "\n",
    "and one for a sine function $y=A\\sin{\\omega x+\\phi}+b$, where $A, \\omega, \\phi$ and $b$ are parameters.\n"
   ]
  },
  {
   "cell_type": "code",
   "execution_count": null,
   "metadata": {
    "collapsed": true
   },
   "outputs": [],
   "source": [
    "def myExp(x,A,k,b):\n",
    "    return A*np.exp(k*x)+b\n",
    "\n",
    "def myPower(x,C,n,b):\n",
    "    return C*x**n+b\n",
    "\n",
    "def myWave(x,A,omega,phi,b):\n",
    "    return A*np.sin(omega*x+phi)+b\n"
   ]
  },
  {
   "cell_type": "markdown",
   "metadata": {},
   "source": [
    "Taking a direct quote from the python notebook \"CoupledOscil_fit.ipynb\" from PHYS201...\n",
    "\n",
    "\"In a nutshell, any fitting algorithm minimizes the difference between the data points and a given function. The function you use must have a set of free parameters that the algorithm changes in order to minimize the differences.\n",
    "You typically have to provide the algorithm with a 'starting point' for the parameters, so that the algorithm knows where the expected optimum parameters are. Minimizing nonlinear functions in multidimensional spaces is very tricky and you can easily fall in a 'local minimum', that is a set of parameters which are not optimal, but that are better than any parameters in their neighborhood.\"\n",
    "\n",
    "So you need to have a good first guess at what your fitted parameters should be to get sensible results from curve_fit!"
   ]
  },
  {
   "cell_type": "code",
   "execution_count": null,
   "metadata": {
    "collapsed": false
   },
   "outputs": [],
   "source": [
    "#enter some realistic starting parameter values given your experimental data\n",
    "#You'll need one value for each parameter in your model; we've got 3 in the exponential model, \n",
    "#3 in the power model and 4 in the wave model.\n",
    "startingParams=(1.9,5.3,0.9)"
   ]
  },
  {
   "cell_type": "markdown",
   "metadata": {},
   "source": [
    "Take a look to the documentation of the function (just google curve_fit python). The basic information you need to feed curve_fit is the function you want it to fit, the x data and the y data, starting values of the parameters and the standard deviation of the y data.\n",
    "\n",
    "curve_fit should then return an array of the fitted parameters and a covariance matrix from which you can establish the uncertainty in the fitted parameters. (Alot like polyfit did, but curve_fit didn't fit a polynomial!)\n",
    "\n",
    "You can then substitute your fitted parameters and x values into your defined function to obtain y values on the fitted curve, as shown below."
   ]
  },
  {
   "cell_type": "code",
   "execution_count": null,
   "metadata": {
    "collapsed": false
   },
   "outputs": [],
   "source": [
    "#enter your chosen function for fitting - currently the first argument is set to myExp.\n",
    "#For the standard deviation in the y values - we have assumed that our uncertainty delta_y is 2 times the standard deviation, \n",
    "#like it came from a Normal distribution.\n",
    "popt,pcov=curve_fit(myExp,x,y,startingParams)\n",
    "#If this doesn't work revise you starting parameters.\n",
    "#If it still doesn't work, get someone to check you have made a sensible choice of functions to fit.\n",
    "\n",
    "\n",
    "#calculating uncertainty in fitted parameters\n",
    "sd_p=np.sqrt(np.diag(pcov))\n",
    "#print out fitting parameters and their uncertainty in terms of +/- 2 standard deviations.\n",
    "print(\"fitted function parameters are:\")\n",
    "print(popt)\n",
    "print(\"uncertainty in fitted function parameters are:\")\n",
    "print(2*sd_p)"
   ]
  },
  {
   "cell_type": "markdown",
   "metadata": {},
   "source": [
    "Finally you can plot you fitted function along with your experimental data to make a nice graph. It's very similar to what was done in the case of the polynomial function fit."
   ]
  },
  {
   "cell_type": "code",
   "execution_count": null,
   "metadata": {
    "collapsed": false
   },
   "outputs": [],
   "source": [
    "#generating a set of y values on fitted function - we chose myExp but you should change it to the function you chose.\n",
    "fittedy=myExp(x,*popt)\n",
    "#make a string containing the equation of this function - edit it to match your function!\n",
    "fflabel=\"y={:.2E}exp({:.2E}x)+{:.2E}\".format(popt[0],popt[1],popt[2])\n",
    "#replot experimental data as before\n",
    "plt.errorbar(x,y,xerr=delta_x, yerr=delta_y,c=\"r\",marker=\".\",ecolor=\"k\",ls=\"none\",label=\"Expt data\")\n",
    "#plot fitted polynomial just as a line and include its label. We've also chosen to make the line green, but that's optional\n",
    "plt.plot(x,fittedy,'g',label=fflabel)\n",
    "#add x axis label\n",
    "plt.xlabel(\"$x$\")\n",
    "#add y axis label\n",
    "plt.ylabel(\"$y$\",rotation=\"horizontal\")\n",
    "#add title at the top of the graph\n",
    "plt.suptitle(\"$y$ as a function of $x$\")\n",
    "#add a legend formed from the label you gave in \"errorbar\" command\n",
    "plt.legend()\n",
    "\n",
    "#you can save this figure to an external pdf file that you can print out later by the following command.\n",
    "#just change the filename to something that is meaningful.\n",
    "plt.savefig(\"myplot.pdf\",dpi=300,orientation=\"landscape\")\n"
   ]
  },
  {
   "cell_type": "code",
   "execution_count": null,
   "metadata": {
    "collapsed": true
   },
   "outputs": [],
   "source": []
  }
 ],
 "metadata": {
  "kernelspec": {
   "display_name": "Python 3",
   "language": "python",
   "name": "python3"
  },
  "language_info": {
   "codemirror_mode": {
    "name": "ipython",
    "version": 3
   },
   "file_extension": ".py",
   "mimetype": "text/x-python",
   "name": "python",
   "nbconvert_exporter": "python",
   "pygments_lexer": "ipython3",
   "version": "3.6.0"
  }
 },
 "nbformat": 4,
 "nbformat_minor": 2
}
