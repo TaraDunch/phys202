{
 "cells": [
  {
   "cell_type": "markdown",
   "metadata": {},
   "source": [
    "# Specular Reflectivity Analysis"
   ]
  },
  {
   "cell_type": "markdown",
   "metadata": {},
   "source": [
    "Complete this python notebook to graph and analyse your specular reflectivity measurements and compare them to theory using the Fresnel Equations. \n",
    "\n",
    "Step 1. Import numpy and pyplot from matplotlib. Also call the command that ensures matplotlib plots happen inline, within the current window."
   ]
  },
  {
   "cell_type": "code",
   "execution_count": null,
   "metadata": {
    "collapsed": true
   },
   "outputs": [],
   "source": [
    "#you can just run this cell\n",
    "import numpy as np\n",
    "import matplotlib.pyplot as plt\n",
    "%matplotlib inline"
   ]
  },
  {
   "cell_type": "markdown",
   "metadata": {},
   "source": [
    "## Calculating $R_p$ experimentally"
   ]
  },
  {
   "cell_type": "markdown",
   "metadata": {},
   "source": [
    "Step 2. Enter your measurements for reflected light polarised in the plane of incidence as four 1-d Numpy arrays, as directed below."
   ]
  },
  {
   "cell_type": "code",
   "execution_count": null,
   "metadata": {
    "collapsed": true
   },
   "outputs": [],
   "source": [
    "#Enter thetai in degrees.\n",
    "theta1_i_deg=np.array([])\n",
    "#Enter uncertainty in thetai in degrees\n",
    "delta_theta1_i_deg=np.array([])\n",
    "#Enter voltage measured at thetai (mV)\n",
    "Vthetai=np.array([])\n",
    "#Enter uncertainty in voltage measured at thetai (mV)\n",
    "delta_Vthetai=np.array([])"
   ]
  },
  {
   "cell_type": "markdown",
   "metadata": {},
   "source": [
    "Step 3. Find the largest voltage (which will conincide with $V_{90}$) and divide all the voltages by this to get the scaled intensity ratio of the detected light. This ratio gives an experimental estimate of reflectivity $R_p$, i.e. \n",
    "\n",
    "$R_p=V_{\\theta_i}/V_{90^\\circ}.\\\\$\n",
    "\n",
    "Also calculate the uncertainty in $R_p$."
   ]
  },
  {
   "cell_type": "code",
   "execution_count": null,
   "metadata": {
    "collapsed": false
   },
   "outputs": [],
   "source": [
    "V90=Vthetai.max()\n",
    "#Uncertainty of V90\n",
    "delta_V90=delta_Vthetai[Vthetai==V90]\n",
    "#Calculate reflectivity Rp\n",
    "Rp=\n",
    "#Complete to calculate the uncertainty in the intensity ratio\n",
    "delta_Rp=np.sqrt((delta_V90/V90)**2+(delta_Vthetai/Vthetai)**2)*Rp"
   ]
  },
  {
   "cell_type": "markdown",
   "metadata": {},
   "source": [
    "Step 4. Plot $R_p$ as a function of thetai_deg. Don't forget to show uncertainties as error bars!\n",
    "\n",
    "From the plot, figure out your best estimate of the Brewster angle. "
   ]
  },
  {
   "cell_type": "code",
   "execution_count": null,
   "metadata": {
    "collapsed": false
   },
   "outputs": [],
   "source": [
    "plt.errorbar()\n",
    "#add title\n",
    "\n",
    "#add y axis label\n",
    "\n",
    "#add x axis label\n",
    "\n",
    "#Adding extra xticks between 50 and 60 to help you decide on Brewster angle\n",
    "extraticks=np.arange(51,60,1)\n",
    "oldXticks,oldXlabels=plt.xticks()\n",
    "newXticks=np.append(oldXticks,extraticks)\n",
    "plt.xticks(newXticks,oldXticks)\n",
    "plt.show()"
   ]
  },
  {
   "cell_type": "markdown",
   "metadata": {},
   "source": [
    "Step 5. Enter your best estimate of the Brewster angle as thetaB and its uncertainty, delta_thetaB. Then calculate an estimate of the refractive index of the prism material using Equation (5) from the lab notes. Finally estimate its uncertainty and print the result out so you can record it in your lab book."
   ]
  },
  {
   "cell_type": "code",
   "execution_count": null,
   "metadata": {
    "collapsed": false
   },
   "outputs": [],
   "source": [
    "thetaB_deg=\n",
    "delta_thetaB_deg=\n",
    "#complete using Equation (5) to estimate the refractive index of the prism based on the Brewster angle\n",
    "n=\n",
    "#He we approximately estimate the uncertainty in the refractive index given Equation (5)\n",
    "delta_n=np.tan((thetaB_deg+delta_thetaB_deg)*np.pi/180.0)-n\n",
    "#print the estimated refractive index and its uncertainty to screen\n",
    "print()"
   ]
  },
  {
   "cell_type": "markdown",
   "metadata": {},
   "source": [
    "## Calculating $R_s$ experimentally "
   ]
  },
  {
   "cell_type": "markdown",
   "metadata": {
    "collapsed": true
   },
   "source": [
    "Step 6. Enter your measurements for reflected light polarised perpendicular to the plane of incidence as four, 1-d Numpy arrays as directed below."
   ]
  },
  {
   "cell_type": "code",
   "execution_count": null,
   "metadata": {
    "collapsed": true
   },
   "outputs": [],
   "source": [
    "#Enter angles of incidence you used to measure light polarised perpendicular to the plane of incidence \n",
    "theta2_i_deg=np.array([])\n",
    "#enter the uncertainty in these angles in degrees\n",
    "delta_theta2_i_deg=np.array([])\n",
    "#Enter the voltage measurements Vthetai (mV)\n",
    "Vthetai=np.array([])\n",
    "#Enter the uncertainty in voltage measurements Vthetai (mV)\n",
    "delta_Vthetai=np.array([])"
   ]
  },
  {
   "cell_type": "markdown",
   "metadata": {},
   "source": [
    "Step 7. Find the largest voltage (which will conincide with $V_{90}$ at $\\theta_{90^{\\circ}}$) and divide all the voltages Vthetai by this to calculate reflectivity $R_s$, i.e.\n",
    "\n",
    "$R_s=V_{\\theta_i}/V_{90^\\circ}.\\\\$\n",
    "\n",
    "Also calculate the uncertainty in $R_s$."
   ]
  },
  {
   "cell_type": "code",
   "execution_count": null,
   "metadata": {
    "collapsed": true
   },
   "outputs": [],
   "source": [
    "V90=Vthetai.max()\n",
    "#Uncertainty of V90\n",
    "delta_V90=delta_Vthetai[Vthetai==V90]\n",
    "#Calculate Rs\n",
    "Rs=\n",
    "#Calculate the uncertainty in Rs\n",
    "delta_Rs=np.sqrt((delta_V90/V90)**2+(delta_Vthetai/Vthetai)**2)*Rs"
   ]
  },
  {
   "cell_type": "markdown",
   "metadata": {},
   "source": [
    "Step 8. Use Equations (3) and (4) and your experimental estimate of $n$ to calculate the theoretical values of $R_p$ and $R_s$.\n",
    "\n",
    "Hints: You might like to re-use some of your work from the python notebook \"SpecularDiffReflectivity_FresnelEquationAnalysis-SV.ipynb\"."
   ]
  },
  {
   "cell_type": "code",
   "execution_count": null,
   "metadata": {
    "collapsed": true
   },
   "outputs": [],
   "source": [
    "#Here we assume angle_i is an array of incident angles in radians.\n",
    "def calculate_transmitted_angles(n, angle_i):\n",
    "#complete the computation inside the function\n",
    "\n",
    "    return "
   ]
  },
  {
   "cell_type": "code",
   "execution_count": null,
   "metadata": {
    "collapsed": true
   },
   "outputs": [],
   "source": [
    "#convert your theta1_i_deg and theta2_i_deg from degrees into radians.\n",
    "theta1_i_rad=theta1_i_deg*np.pi/180.\n",
    "theta2_i_rad=\n",
    "#Calculate theta_t using your previously defined function\n",
    "theta1_t_rad=calculate_transmitted_angles(n,theta1_i_rad)\n",
    "theta2_t_rad=\n",
    "#Calculate  theoretical Rp and Rs using Equation (3) and (4) from the notes.\n",
    "tRp=((np.cos(theta1_t_rad)-n*np.cos(theta1_i_rad))/(np.cos(theta1_t_rad)+n*np.cos(theta1_i_rad)))**2\n",
    "tRs="
   ]
  },
  {
   "cell_type": "markdown",
   "metadata": {},
   "source": [
    "Step 9. Plot your experimental measurements of $R_p$ and $R_s$ as a function of $\\theta_i$ in degrees, and theoretical predictions of them, on the same graph. Add titles, axes labels and a legend. Then save the figure to a pdf file to print out and stick in your lab book. "
   ]
  },
  {
   "cell_type": "code",
   "execution_count": null,
   "metadata": {
    "collapsed": false
   },
   "outputs": [],
   "source": [
    "#Plot experimental measurements R_p and R_s with uncertainties against angle in degrees\n",
    "plt.errorbar(theta1_i_deg,Rp,yerr=delta_Rp,xerr=delta_theta1_i_deg,c=\"r\",ecolor=\"k\",marker=\".\",ls=\"none\",label=\"Expt $R_p$\")\n",
    "plt.errorbar(\n",
    "\n",
    "#Plot theoretical predictions tRp and tRs against angle in degrees\n",
    "plt.plot(theta1_i_deg,tRp,c=(1,1,0),label=\"Theory $R_p$\")\n",
    "plt.plot(\n",
    "#Add title\n",
    "\n",
    "#Add y axis label\n",
    "\n",
    "#Add x axis label\n",
    "\n",
    "#add legend\n",
    "\n",
    "#Save plot as pdf file\n",
    "plt.savefig(\"myplot.pdf\",dpi=300,orientation=\"landscape\")"
   ]
  }
 ],
 "metadata": {
  "kernelspec": {
   "display_name": "Python 3",
   "language": "python",
   "name": "python3"
  },
  "language_info": {
   "codemirror_mode": {
    "name": "ipython",
    "version": 3
   },
   "file_extension": ".py",
   "mimetype": "text/x-python",
   "name": "python",
   "nbconvert_exporter": "python",
   "pygments_lexer": "ipython3",
   "version": "3.6.0"
  }
 },
 "nbformat": 4,
 "nbformat_minor": 2
}
