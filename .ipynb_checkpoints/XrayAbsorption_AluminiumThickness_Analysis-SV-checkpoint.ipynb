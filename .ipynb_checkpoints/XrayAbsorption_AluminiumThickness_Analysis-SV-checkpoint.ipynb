{
 "cells": [
  {
   "cell_type": "markdown",
   "metadata": {},
   "source": [
    "# Attenutation as a function of Al absorption thickness\n",
    "## (Verification of Lambert's law)"
   ]
  },
  {
   "cell_type": "markdown",
   "metadata": {},
   "source": [
    "By completing this python notebook you will analyse your experimental count rate measurements of x-rays passing through aluminium to determine if Lambert's Law holds. You'll also estimate the linear attenuation, $\\mu$, of Aluminium with respect to x-rays. As part of this analysis you'll be graphing and curve fitting your data, so you need to begin by importing the necessary modules into python.\n",
    "\n",
    "Step 1. Import numpy and pyplot from matlibplot."
   ]
  },
  {
   "cell_type": "code",
   "execution_count": null,
   "metadata": {
    "collapsed": true
   },
   "outputs": [],
   "source": [
    "#you can just run this cell\n",
    "import numpy as np\n",
    "import matplotlib.pyplot as plt\n",
    "%matplotlib inline"
   ]
  },
  {
   "cell_type": "markdown",
   "metadata": {},
   "source": [
    "## Measurements taken with Zr filter"
   ]
  },
  {
   "cell_type": "markdown",
   "metadata": {},
   "source": [
    "Step 2. Enter your experimental data from Table 1 measured WITH the zirconium filter. Make sure your three 1-d arrays, thickness, rawR (mean count rate) and sigmaRawR (uncertainty in count rate) have the same number of entries as each other."
   ]
  },
  {
   "cell_type": "code",
   "execution_count": null,
   "metadata": {},
   "outputs": [],
   "source": [
    "#thickness data\n",
    "thickness=np.array([])\n",
    "#Mean count rate data\n",
    "rawR_Zr=np.array([])\n",
    "#uncertainty in count rate data\n",
    "sigmaRawR_Zr=np.array([])"
   ]
  },
  {
   "cell_type": "markdown",
   "metadata": {},
   "source": [
    "Step 3. Enter the background count rate and its uncertainty. "
   ]
  },
  {
   "cell_type": "code",
   "execution_count": null,
   "metadata": {
    "collapsed": true
   },
   "outputs": [],
   "source": [
    "#input mean background count rate\n",
    "Rb=\n",
    "#input uncertainty in background count rate\n",
    "sigmaRb="
   ]
  },
  {
   "cell_type": "markdown",
   "metadata": {},
   "source": [
    "Step 4. You are now going to calculate the transmission fractions for each thickness of aluminium using Equation (1a) from the lab manual, i.e.\n",
    "\n",
    "$T=\\frac{(R-R_b)}{(R_0-R_b)}.$\n",
    "\n",
    "The value of $R_0$ in the equation is the mean count rate when the aluminium thickness was 0mm. We taken the maximum value of the array rawR to obtain R0. "
   ]
  },
  {
   "cell_type": "code",
   "execution_count": null,
   "metadata": {},
   "outputs": [],
   "source": [
    "#max count rate occurs for Al thickness = 0\n",
    "R0_Zr=rawR_Zr.max()\n",
    "#uncertainty of R0 \n",
    "sigmaR0_Zr=sigmaRawR_Zr[rawR_Zr==R0_Zr]\n",
    "#Complete using above equation to calculate transmission measured with Zr filter\n",
    "TZr=\n",
    "#Now take the natural log of the transmission ready for plotting against thickness.\n",
    "lnTZr="
   ]
  },
  {
   "cell_type": "markdown",
   "metadata": {},
   "source": [
    "Since $T$ is given by,\n",
    "\n",
    "$T=\\frac{(R-R_b)}{(R_0-R_b)}\\\\\n",
    "\\ln{T}=\\ln{(R-R_b)}-\\ln{(R_0-R_b)}.$\n",
    "\n",
    "Due to the uncertainties in $R, R_0, R_b$ there will be uncertainty in our calculated value $\\ln{T}$.\n",
    "\n",
    "The general rule for calculating the statistical uncertainty in a quantity $q$ which depends on independent random variables $x,y,\\text{ and }z$ is:\n",
    "\n",
    "$\\sigma_q=\\sqrt{(\\frac{\\partial q}{\\partial x}\\sigma_x)^2+(\\frac{\\partial q}{\\partial y}\\sigma_y)^2+(\\frac{\\partial q}{\\partial z}\\sigma_z)^2}\\\\\n",
    "\\text{where } \\frac{\\partial q}{\\partial x} \\text{ is the partial derivative of } q \\text{ with respect to }x.$\n",
    "\n",
    "So applying this rule to $\\ln{T}$ we get:\n",
    "\n",
    "$\\sigma_{\\ln{T}}=\\sqrt{(\\frac{\\partial \\ln{T}}{\\partial R}\\sigma_{R})^2+(\\frac{\\partial \\ln{T}}{\\partial R_0}\\sigma_{R_0})^2+(\\frac{\\partial \\ln{T}}{\\partial R_b}\\sigma_{R_b})^2}$. \n",
    "\n",
    "Partial differentiation of the expression for $\\ln{T}$ gives;\n",
    "\n",
    "$\\begin{equation}\n",
    "\\frac{\\partial \\ln{T}}{\\partial R}=(R-R_b)^{-1},\\\\\n",
    "\\frac{\\partial \\ln{T}}{\\partial R_0}=-(R_0-R_b)^{-1},\\\\\n",
    "\\frac{\\partial \\ln{T}}{\\partial R_b}=(R_0-R_b)^{-1}-(R-R_b)^{-1}.\n",
    "\\end{equation}$\n",
    "\n",
    "Step 5. Use these expressions of the partial derivatives and $\\sigma_{\\ln{T}}$ to calculate the uncertainty in $\\ln{T}$."
   ]
  },
  {
   "cell_type": "code",
   "execution_count": null,
   "metadata": {
    "collapsed": true
   },
   "outputs": [],
   "source": [
    "partialR=1.0/(rawR_Zr-Rb)\n",
    "partialR0=\n",
    "partialRb=\n",
    "#The following line has been completed for you\n",
    "sigmalnTZr=np.sqrt((partialR*sigmaRawR_Zr)**2+(partialR0*sigmaR0_Zr)**2+(partialRb*sigmaRb)**2)"
   ]
  },
  {
   "cell_type": "markdown",
   "metadata": {},
   "source": [
    "Step 6. Make an initial plot of $\\ln{T}$ as a function of thickness, $x$."
   ]
  },
  {
   "cell_type": "code",
   "execution_count": null,
   "metadata": {},
   "outputs": [],
   "source": [
    "#you can just run this cell\n",
    "plt.errorbar(thickness,lnTZr,yerr=sigmalnTZr,ls=\"none\",marker=\".\",c=\"g\",ecolor=\"k\",label='with Zr filter')\n",
    "plt.xlabel(\"Al thickness, x (mm)\")\n",
    "plt.ylabel(\"$\\ln{T}$\",position=(0,0.95),rotation=\"horizontal\")\n",
    "plt.suptitle(\"Natural logarithm of the transmission of x-rays through Al\\n as a function of Al thickness.\")"
   ]
  },
  {
   "cell_type": "markdown",
   "metadata": {},
   "source": [
    "From the looks of your plotted experimental data, do you think Lambert's Law holds? \n",
    "\n",
    "\n",
    "If you think it does, continue with step 7.\n",
    "\n",
    "\n",
    "Step 7. Determine the best fitting straight line relationship between thickness and $\\ln{T}$ using np.polyfit. \n",
    "\n",
    "Also get np.polyfit to return the covariance matrix from the fit. The square root of the diagonal elements in the covariance matrix are the standard deviation of the fitted parameters, which is a measure of their uncertainty."
   ]
  },
  {
   "cell_type": "code",
   "execution_count": null,
   "metadata": {},
   "outputs": [],
   "source": [
    "#complete the polyfit statement for a polynomial of degree 1 and weight by the inverse of the uncertainty sigmalnTZr\n",
    "lnTZrParam, covParam=np.polyfit\n",
    "#make a label for this line of best fit\n",
    "lnTZrlinelabel=\n",
    "\n",
    "#Calculating uncertainty in fitted parameters\n",
    "sd_lnTZrParam=np.sqrt(np.diag(covParam))\n",
    "#Complete the following print statements and record the results in your lab books.\n",
    "print(\"Gradient of fitted line is {:.4f}\".format(lnTZrParam[0]))\n",
    "print(\"Intercept of fitted line is {:.4f}\".\n",
    "print(\"Standard deviation in gradient of fitted line is {:.4f}\".format(sd_lnTZrParam[0]))\n",
    "print(\"Standard deviation in intercept of fitted line is {:.4f}\"."
   ]
  },
  {
   "cell_type": "markdown",
   "metadata": {},
   "source": [
    "The gradient of the best fitting line, along with its uncertainty, is your experimental estimate of the attenuation coefficient $\\mu$ for aluminium, made from data collected with the use of a Zr filter. \n",
    "\n",
    "Step 8. Now produce the data for this best fitting line with 'np.polyval' and plot it along with your experimental data. "
   ]
  },
  {
   "cell_type": "code",
   "execution_count": null,
   "metadata": {},
   "outputs": [],
   "source": [
    "lnTZrBestLine=np.polyval(lnTZrParam,thickness)\n",
    "#plotting log of experimental data with markers only and label it\n",
    "plt.errorbar(thickness,lnTZr,yerr=sigmalnTZr,ls=\"none\",marker=\".\",c=\"g\",ecolor=\"k\",label='with Zr filter')\n",
    "#plot line of best fit using only a line in a different colour and label it\n",
    "plt.plot(\n",
    "#add axes labels\n",
    "plt.xlabel()\n",
    "plt.ylabel()    \n",
    "#add title\n",
    "plt.suptitle()    \n",
    "#add legend\n",
    "plt.legend()    "
   ]
  },
  {
   "cell_type": "markdown",
   "metadata": {},
   "source": [
    "## Measurements taken without Zr filter"
   ]
  },
  {
   "cell_type": "markdown",
   "metadata": {},
   "source": [
    "Repeat steps 2, 4, 5, 7 and 8 with your experimental data taken WITHOUT the Zr filter, to estimate the attenuation coefficient of aluminium, $\\mu$, made without the use of the Zr filter."
   ]
  },
  {
   "cell_type": "code",
   "execution_count": null,
   "metadata": {
    "collapsed": true
   },
   "outputs": [],
   "source": [
    "#step 2- enter mean count rate data without Zr filter\n",
    "rawR_noZr=np.array([])\n",
    "#uncertainty of count rate without Zr filter\n",
    "sigmaRawR_noZr=np.array([])"
   ]
  },
  {
   "cell_type": "code",
   "execution_count": null,
   "metadata": {},
   "outputs": [],
   "source": [
    "#Step 4 - calculating natural log of the transmission of x-rays WITHOUT the Zr filter. Rb is the same WITH/OUT filter.\n",
    "R0_noZr=rawR_noZr.max()\n",
    "sigmaR0_noZr=sigmaRawR_noZr[rawR_noZr==R0_noZr]\n",
    "#Calculate transmission measured without Zr filter\n",
    "T_noZr=\n",
    "#Now take the natural log of the transmission ready for plotting against thickness.\n",
    "lnT_noZr="
   ]
  },
  {
   "cell_type": "code",
   "execution_count": null,
   "metadata": {},
   "outputs": [],
   "source": [
    "#Step 5 - complete to calculate uncertainty in ln(T) WITHOUT Zr filter, via partial derivatives\n",
    "partialR_noZr=1.0/(rawR_noZr-Rb)\n",
    "partialR0_noZr=\n",
    "partialRb_noZr=\n",
    "sigmalnT_noZr=np.sqrt((partialR_noZr*sigmaRawR_noZr)**2+(partialR0_noZr*sigmaR0_noZr)**2+(partialRb_noZr*sigmaRb)**2)"
   ]
  },
  {
   "cell_type": "code",
   "execution_count": null,
   "metadata": {},
   "outputs": [],
   "source": [
    "#Step 7 - complete the polyfit statement to fit a polynomial of degree 1, weighted by 1/sigmalnT_noZr\n",
    "lnT_noZrParam, noZrCovParam=np.polyfit(\n",
    "#make an appropriate label for this best fitting line\n",
    "lnT_noZrlinelabel=\n",
    "#Calculating uncertainty in fitted parameters\n",
    "sd_lnT_noZrParam=np.sqrt(np.diag(noZrCovParam))\n",
    "#Complete the following print statements and record the results in your lab books.\n",
    "print(\"Gradient of fitted line for no Zr filter is {:.4f}\".format(lnT_noZrParam[0]))\n",
    "print(\"Intercept of fitted line for noZr filter is {:.4f}\".\n",
    "print(\"Std. dev. in gradient of fitted line is {:.4f}\".format(sd_lnT_noZrParam[0]))\n",
    "print(\"Std. dev. in intercept of fitted line is {:.4f}\".\n",
    "#Making data from best fit line to data without Zr filter using polyval \n",
    "lnT_noZrBestLine=np.polyval(lnT_noZrParam,thickness)"
   ]
  },
  {
   "cell_type": "code",
   "execution_count": null,
   "metadata": {},
   "outputs": [],
   "source": [
    "#step 8 - plotting both sets of data and their best fitting lines\n",
    "plt.errorbar(thickness,lnTZr,yerr=sigmalnTZr,ls=\"none\",marker=\".\",c=\"g\",ecolor=\"k\",label='with Zr filter')\n",
    "plt.errorbar(thickness,lnT_noZr,yerr=sigmalnT_noZr,ls=\"none\",marker=\".\",c=\"b\",ecolor=\"k\",label='without Zr filter')\n",
    "#plotting both lines of best fit and labelling\n",
    "plt.plot(\n",
    "plt.plot(\n",
    "#add axes labels\n",
    "\n",
    "\n",
    "#add title\n",
    "    \n",
    "#add legend\n",
    "\n",
    "#Enter an appropriate filename for the plot\n",
    "plt.savefig(\"myplot.pdf\",dpi=300,orientation=\"landscape\")"
   ]
  },
  {
   "cell_type": "markdown",
   "metadata": {},
   "source": [
    "### Now print out a hard copy of the pdf file containing your graph and stick it in your lab book!"
   ]
  }
 ],
 "metadata": {
  "kernelspec": {
   "display_name": "Python 3",
   "language": "python",
   "name": "python3"
  },
  "language_info": {
   "codemirror_mode": {
    "name": "ipython",
    "version": 3
   },
   "file_extension": ".py",
   "mimetype": "text/x-python",
   "name": "python",
   "nbconvert_exporter": "python",
   "pygments_lexer": "ipython3",
   "version": "3.6.3"
  }
 },
 "nbformat": 4,
 "nbformat_minor": 2
}
