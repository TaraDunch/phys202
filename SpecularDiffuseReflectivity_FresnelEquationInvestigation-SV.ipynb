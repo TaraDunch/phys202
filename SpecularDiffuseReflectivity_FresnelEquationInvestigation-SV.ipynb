{
 "cells": [
  {
   "cell_type": "markdown",
   "metadata": {},
   "source": [
    "# Investigating the Fresnel equations"
   ]
  },
  {
   "cell_type": "markdown",
   "metadata": {},
   "source": [
    "By completing this python notebook you will theoretical model how the reflected fraction of $p$-polarised light, $R_p$ and $s$-polarised light, $R_s$ varies as a function of angle of incidence, $\\theta_i$.\n",
    "\n",
    "As mentioned in the notes, \n",
    "\n",
    "$R_p=(\\frac{\\cos\\theta_t - n\\cos\\theta_i}{\\cos\\theta_t+n\\cos\\theta_i})^2,\\\\\n",
    "R_s=(\\frac{\\cos\\theta_i-n\\cos\\theta_t}{\\cos\\theta_i+n\\cos\\theta_t})^2,$\n",
    "\n",
    "where $n$ is the reflective surface's refractive index.\n",
    "The angle of incidence $\\theta_i$, the angle of transmission $\\theta_t$ and the refractive index of the material are related by,\n",
    "\n",
    "$n=\\frac{\\sin\\theta_i}{\\sin\\theta_t},\\\\\n",
    "\\theta_t=\\sin^{-1}(\\sin\\theta_i/n).\\\\$\n",
    "\n",
    "Step 1. Import numpy and pyplot from matplotlib. Also call the command that ensures matplotlib plots happen inline, within the current window."
   ]
  },
  {
   "cell_type": "code",
   "execution_count": null,
   "metadata": {
    "collapsed": true
   },
   "outputs": [],
   "source": [
    "#you can just run this cell\n",
    "import numpy as np\n",
    "import matplotlib.pyplot as plt\n",
    "%matplotlib inline"
   ]
  },
  {
   "cell_type": "markdown",
   "metadata": {},
   "source": [
    "Step 2. Generate an array of 100 $\\theta_i$ values ranging from 0-90 degrees. Then convert them to radians. "
   ]
  },
  {
   "cell_type": "code",
   "execution_count": null,
   "metadata": {
    "collapsed": false
   },
   "outputs": [],
   "source": [
    "#make array of theta_i values from 0 to 90 degrees.\n",
    "theta_i_deg=np.linspace\n",
    "#convert degrees to radians.\n",
    "theta_i_rad=theta_i_deg*"
   ]
  },
  {
   "cell_type": "markdown",
   "metadata": {},
   "source": [
    "Step 3. Generate an array of 6 refractive index values from 1.31 (water ice) to 2.42 (diamond)."
   ]
  },
  {
   "cell_type": "code",
   "execution_count": null,
   "metadata": {
    "collapsed": true
   },
   "outputs": [],
   "source": [
    "n=np.linspace()"
   ]
  },
  {
   "cell_type": "markdown",
   "metadata": {},
   "source": [
    "Step 4. Define a function that takes in one refractive index value and an array of incident angles and returns an array of transmitted angles. "
   ]
  },
  {
   "cell_type": "code",
   "execution_count": null,
   "metadata": {
    "collapsed": true
   },
   "outputs": [],
   "source": [
    "#Here we assume angle_i is an array of incident angles in radians.\n",
    "def calculate_transmitted_angles(n, angle_i):\n",
    "    "
   ]
  },
  {
   "cell_type": "markdown",
   "metadata": {},
   "source": [
    "Step 5. Loop through every value of the refractive index, calculate $R_p$, then plot the result as a function of $\\theta_i$. Outside the loop add a title and axes labels and save the figure as a pdf file, to show how $R_p$ varies with $n$ and $\\theta_i$."
   ]
  },
  {
   "cell_type": "code",
   "execution_count": null,
   "metadata": {
    "collapsed": false
   },
   "outputs": [],
   "source": [
    "#set up a counter i starting at zero\n",
    "i=0\n",
    "#loop through every value of the refractive index in array \"n\"\n",
    "for x in n:\n",
    "    #Calculate theta_t using your previously defined function\n",
    "    theta_t_rad=\n",
    "    #Calculate R_p using Equation (3) from the notes.\n",
    "    R_p=\n",
    "    #Plot R_p against theta_i_deg, making sure to change the color for each loop and change the label appropriately\n",
    "    #It would be easier to visualise the angle in degrees, so plot theta_i_deg along the horizontal axis.\n",
    "    plt.plot(theta_i_deg,R_p,c=(0,0,i/5.0),label=\"n={}\".format(x))\n",
    "    #increment the counter i\n",
    "    i+=1\n",
    "#Add title\n",
    "plt.suptitle()\n",
    "#Add axes labels\n",
    "plt.xlabel()\n",
    "plt.ylabel()\n",
    "#Add legend\n",
    "\n",
    "#Change pdf filename to something appropriate\n",
    "plt.savefig(\"myplot.pdf\",dpi=300,orientation=\"landscape\")"
   ]
  },
  {
   "cell_type": "markdown",
   "metadata": {},
   "source": [
    "You'll notice from the above plot that $R_p$ equals zero at particular angle of incidence on a material of a given refractive index. That angle is known in physics as the Brewster angle, $\\theta_B$. It can be shown that $R_p$ equals zero when,\n",
    "\n",
    "$n=\\tan\\theta_B.$\n",
    "\n",
    "Step 6. From the above equation, calculate the Brewster angle, $\\theta_B$, for each of the values of refractive index. and print them to screen.\n",
    "\n",
    "Do they match the angles of incidence at which $R_p=0$ in the above plot?"
   ]
  },
  {
   "cell_type": "code",
   "execution_count": null,
   "metadata": {
    "collapsed": false
   },
   "outputs": [],
   "source": [
    "#Calculate an array of thetaB values using the array of n\n",
    "theta_B_rad=\n",
    "#Convert Brewster angle into degrees for easy comparison\n",
    "theta_B_deg=theta_B_rad*\n",
    "#print out the refractive index and its corresponding Brewster angle.\n",
    "for i in range(len(n)):\n",
    "    print(\"n={}, Theta_B={:.3f}(deg)\".format(n[i],theta_B_deg[i]))\n"
   ]
  },
  {
   "cell_type": "markdown",
   "metadata": {},
   "source": [
    "Step 7. Repeat step 5. this time calculating $R_s$, then plot the result as a function of $\\theta_i$. Outside the loop add a title and axes labels and save the figure as a pdf file, to show how $R_s$ varies with $n$ and $\\theta_i$."
   ]
  },
  {
   "cell_type": "code",
   "execution_count": null,
   "metadata": {
    "collapsed": false
   },
   "outputs": [],
   "source": [
    "i=0\n",
    "#loop through every value of the refractive index in array \"n\"\n",
    "for x in n:\n",
    "    #Calculate R_s using Equation (4) from the notes. Make sure to use theta_i_rad and theta_t_rad\n",
    "    R_s=\n",
    "    #Plot R_s against theta_i, making sure to change the color for each loop and change the label appropriately\n",
    "    #It would be easier to visualise the angle in degrees, so plot theta_i_deg along the horizontal axis.\n",
    "    plt.plot(theta_i_deg,R_s,c=(i/5.0,0,0),label=\"n={}\".format(x))\n",
    "    #increment the counter i\n",
    "    i+=1\n",
    "#Add title\n",
    "plt.suptitle()\n",
    "#Add axes labels\n",
    "plt.ylabel()\n",
    "plt.xlabel()\n",
    "#Add legend\n",
    "\n",
    "#Change pdf filename to something appropriate\n",
    "plt.savefig(\"myplot.pdf\",dpi=300,orientation=\"landscape\")"
   ]
  },
  {
   "cell_type": "markdown",
   "metadata": {},
   "source": [
    "Step 8. On the same plot, graph the variation of the magnitude of $R_p$ and $R_s$ as a function of angle $\\theta_i$ for glass, $n\\approx 1.5$. Save this plot to pdf file and print out a hard copy to stick in your lab book."
   ]
  },
  {
   "cell_type": "code",
   "execution_count": null,
   "metadata": {
    "collapsed": false
   },
   "outputs": [],
   "source": []
  }
 ],
 "metadata": {
  "kernelspec": {
   "display_name": "Python 3",
   "language": "python",
   "name": "python3"
  },
  "language_info": {
   "codemirror_mode": {
    "name": "ipython",
    "version": 3
   },
   "file_extension": ".py",
   "mimetype": "text/x-python",
   "name": "python",
   "nbconvert_exporter": "python",
   "pygments_lexer": "ipython3",
   "version": "3.6.0"
  }
 },
 "nbformat": 4,
 "nbformat_minor": 2
}
