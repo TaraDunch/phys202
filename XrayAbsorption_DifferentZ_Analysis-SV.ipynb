{
 "cells": [
  {
   "cell_type": "markdown",
   "metadata": {},
   "source": [
    "# Plotting the linear attenuation $\\mu$ as a function of atomic number, Z."
   ]
  },
  {
   "cell_type": "markdown",
   "metadata": {
    "collapsed": true
   },
   "source": [
    "The purpose of this python notebook is to analyse your experimental count rate measurements taken of x-rays passing through absorbers of the same thickness (x=0.05mm), but different atomic numbers, Z. As part of this analysis you'll be graphing your experimental data measured with and without the Zr filter. You'll start by importing the necessary modules into python for graphing.\n",
    "\n",
    "Step 1. Import numpy and pyplot from matlibplot."
   ]
  },
  {
   "cell_type": "code",
   "execution_count": 5,
   "metadata": {
    "collapsed": true
   },
   "outputs": [],
   "source": [
    "#you can just run this cell\n",
    "import numpy as np\n",
    "import matplotlib.pyplot as plt\n",
    "%matplotlib inline"
   ]
  },
  {
   "cell_type": "markdown",
   "metadata": {},
   "source": [
    "## Measurements taken with Zr filter "
   ]
  },
  {
   "cell_type": "markdown",
   "metadata": {},
   "source": [
    "Step 2. Enter your experimental data from Table 2 measured WITH the zirconium filter. Make sure each of the 1-d arrays contain the same number of entries as each other."
   ]
  },
  {
   "cell_type": "code",
   "execution_count": 6,
   "metadata": {},
   "outputs": [],
   "source": [
    "#enter Z number data\n",
    "Znumber=np.array([0,6,13,26,29,40,47])\n",
    "#Enter the raw mean count rate with Zr filter\n",
    "rawR_Zr=np.array([614.4,583.,320.2,42.48,4.57,79.04,21.87])\n",
    "#enter its uncertainty\n",
    "sigmaRawR_Zr=np.array([4.53,4.41,3.27,0.38,0.12,0.51,0.27])"
   ]
  },
  {
   "cell_type": "markdown",
   "metadata": {},
   "source": [
    "Step 3. Enter the background count rate and its uncertainty. (This should have been measured over 300 seconds.)"
   ]
  },
  {
   "cell_type": "code",
   "execution_count": 7,
   "metadata": {
    "collapsed": true
   },
   "outputs": [],
   "source": [
    "#input mean background count rate\n",
    "Rb=0.193\n",
    "#input uncertainty in background count rate\n",
    "sigmaRb=0.025"
   ]
  },
  {
   "cell_type": "markdown",
   "metadata": {},
   "source": [
    "Step 4. You are now going to calculate the transmission fractions for each absorber using Equation (1a) from the lab manual. The value of $R_0$ in the equation is the mean count rate when there was no absorber, which should correspond to the largest count rate measured."
   ]
  },
  {
   "cell_type": "code",
   "execution_count": 8,
   "metadata": {},
   "outputs": [],
   "source": [
    "R0_Zr=rawR_Zr.max()\n",
    "sigmaR0_Zr=sigmaRawR_Zr[rawR_Zr==R0_Zr]\n",
    "#Calculate transmission measured with Zr filter (Equation (1a))\n",
    "TZr=(rawR_Zr-Rb)/(R0_Zr-Rb)\n",
    "#Complete using above equation to calculate transmission measured with Zr filter\n",
    "TZr=(rawR_Zr-Rb)/(R0_Zr-Rb)"
   ]
  },
  {
   "cell_type": "markdown",
   "metadata": {},
   "source": [
    "Step 5. Now use Equation (3) to calculate the linear attenuation for each absorber, knowing that each was 0.05mm thick."
   ]
  },
  {
   "cell_type": "code",
   "execution_count": 9,
   "metadata": {},
   "outputs": [],
   "source": [
    "#Taking the natural log of the transmission.\n",
    "lnTZr=np.log(TZr)\n",
    "#Enter the thickness of each absorber in mm.\n",
    "thickness=0.5\n",
    "#Complete using Equation (3)\n",
    "mu_Zr= - lnTZr/thickness"
   ]
  },
  {
   "cell_type": "markdown",
   "metadata": {},
   "source": [
    "Step 6. Next you are going to estimate the uncertainty in the linear attenuation for each absorber. You can assume no uncertainty in the thickness of the absorbers, so from Equation (3) this means,\n",
    "\n",
    "$\\sigma_{\\mu}=\\sqrt{(\\frac{\\partial \\mu}{\\partial \\ln{T}}\\sigma_{\\ln{T}})^2}\\\\\n",
    "\\sigma_{\\mu}=\\frac{\\partial \\mu}{\\partial \\ln{T}}\\sigma_{\\ln{T}}.$\n",
    "\n",
    "\n",
    "Given your experience of calculating the uncertainty in the natural log of the transmission from the uncertainty in the count rates (see XrayAbsorption_AluminiuThickness_Analysis-SV.ipynb), you should be able to follow this calculation of the uncertainty $\\sigma_{\\mu}$.\n"
   ]
  },
  {
   "cell_type": "code",
   "execution_count": 10,
   "metadata": {},
   "outputs": [],
   "source": [
    "#you can just run this cell\n",
    "partialR=1.0/(rawR_Zr-Rb)\n",
    "partialR0=-1.0/(R0_Zr-Rb)\n",
    "partialRb=1.0/(R0_Zr-Rb)-1.0/(rawR_Zr-Rb)\n",
    "sigmalnTZr=np.sqrt((partialR*sigmaRawR_Zr)**2+(partialR0*sigmaR0_Zr)**2+(partialRb*sigmaRb)**2)\n",
    "sigmaMuZr=-sigmalnTZr/thickness"
   ]
  },
  {
   "cell_type": "markdown",
   "metadata": {},
   "source": [
    "Step 7. Make an initial plot of $\\mu$ as a function of atomic number $Z$. Make sure to display uncertainties."
   ]
  },
  {
   "cell_type": "code",
   "execution_count": 12,
   "metadata": {},
   "outputs": [
    {
     "data": {
      "text/plain": [
       "<matplotlib.legend.Legend at 0x276106e26d8>"
      ]
     },
     "execution_count": 12,
     "metadata": {},
     "output_type": "execute_result"
    },
    {
     "data": {
      "image/png": "[encoded data removed]",
      "text/plain": [
       "<matplotlib.figure.Figure at 0x2761068b470>"
      ]
     },
     "metadata": {},
     "output_type": "display_data"
    }
   ],
   "source": [
    "#complete the following\n",
    "plt.errorbar(Znumber, mu_Zr, yerr=sigmaMuZr,ls=\"none\",marker=\"+\",c=\"g\",ecolor=\"k\",label='with Zr filter')\n",
    "#add axes labels\n",
    "plt.xlabel(\"Atomic Number\")\n",
    "plt.xlabel(\"Linear Attenuation Coefficient\")             \n",
    "#add title\n",
    "plt.suptitle(\"Linear Attenuation Coefficient vs Atomic Number\")\n",
    "#add legend\n",
    "plt.legend()              "
   ]
  },
  {
   "cell_type": "markdown",
   "metadata": {},
   "source": [
    "## Measurements taken without Zr filter "
   ]
  },
  {
   "cell_type": "markdown",
   "metadata": {},
   "source": [
    "Now repeat steps 2,4,5 and 6 with your experimental data taken WITHOUT the Zr filter."
   ]
  },
  {
   "cell_type": "code",
   "execution_count": 13,
   "metadata": {
    "collapsed": true
   },
   "outputs": [],
   "source": [
    "#Step 2\n",
    "#enter the raw mean count rate measured without Zr filter\n",
    "rawR_noZr=np.array([1640.,1598.,983.9,132.7,12.2,135.5,100.])\n",
    "#enter its associated uncertainty\n",
    "sigmaRawR_noZr=np.array([7.39,7.3,5.73,0.67,0.2,0.67,0.58])"
   ]
  },
  {
   "cell_type": "code",
   "execution_count": 14,
   "metadata": {
    "collapsed": true
   },
   "outputs": [],
   "source": [
    "#Step 4 - get the maximum raw count rate without an absorber present, and its uncertainty\n",
    "R0_noZr=rawR_noZr.max()\n",
    "sigmaR0_noZr=sigmaR0_noZr=sigmaRawR_noZr[rawR_noZr==R0_noZr]\n",
    "#Calculate transmission measured without Zr filter using Equation (1a)\n",
    "T_noZr=(rawR_noZr-Rb)/(R0_noZr-Rb)\n",
    "#Complete using above equation to calculate transmission measured with Zr filter\n",
    "TZr=(rawR_Zr-Rb)/(R0_Zr-Rb)"
   ]
  },
  {
   "cell_type": "code",
   "execution_count": 15,
   "metadata": {
    "collapsed": true
   },
   "outputs": [],
   "source": [
    "#Step 5\n",
    "#Now take the natural log of the transmission.\n",
    "lnT_noZr=np.log(T_noZr)\n",
    "#Calculate mu using Equation (3) from notes\n",
    "mu_noZr=- lnT_noZr/thickness"
   ]
  },
  {
   "cell_type": "code",
   "execution_count": 16,
   "metadata": {},
   "outputs": [],
   "source": [
    "#Step 6 - calculating uncertainty in mu_noZr\n",
    "#you can just run this cell\n",
    "partialR_noZr=1.0/(rawR_noZr-Rb)\n",
    "partialR0_noZr=-1.0/(R0_noZr-Rb)\n",
    "partialRb_noZr=1.0/(R0_noZr-Rb)-1.0/(rawR_noZr-Rb)\n",
    "sigmalnT_noZr=np.sqrt((partialR_noZr*sigmaRawR_noZr)**2+(partialRb_noZr*sigmaRb)**2)\n",
    "sigmaMu_noZr=-sigmalnT_noZr/thickness"
   ]
  },
  {
   "cell_type": "markdown",
   "metadata": {},
   "source": [
    "Plot both sets of experimental results (with and without Zr filter) on the same graph, with their respective labels. Then save figure to a pdf file."
   ]
  },
  {
   "cell_type": "code",
   "execution_count": 23,
   "metadata": {},
   "outputs": [
    {
     "data": {
      "image/png": "[encoded data removed]",
      "text/plain": [
       "<matplotlib.figure.Figure at 0x27610a56d68>"
      ]
     },
     "metadata": {},
     "output_type": "display_data"
    }
   ],
   "source": [
    "#plot of mu_Zr as a function of Znumber and label\n",
    "plt.errorbar(Znumber,mu_Zr,yerr=sigmaMuZr,ls=\"none\",marker=\"+\",c=\"black\",ecolor=\"k\",label='with Zr filter')\n",
    "#plot mu_noZr as a function of Znumber and label\n",
    "plt.errorbar(Znumber,mu_noZr,yerr=sigmaMu_noZr,ls=\"none\",marker=\"x\",c=\"b\",ecolor=\"k\",label='without Zr filter')\n",
    "#add axes labels    \n",
    "plt.xlabel(\"Atomic Number\")\n",
    "plt.xlabel(\"Linear Attenuation Coefficient\")      \n",
    "#add title\n",
    "plt.suptitle(\"Linear Attenuation Coefficient vs Atomic Number\")\n",
    "#add legend\n",
    "plt.legend()\n",
    "#Enter an appropriate pdf filename to save the figure\n",
    "plt.savefig(\"myplot.pdf\",dpi=300,orientation=\"landscape\")"
   ]
  },
  {
   "cell_type": "markdown",
   "metadata": {
    "collapsed": true
   },
   "source": [
    "### Now print out a hard-copy of your pdf file and stick it in your lab book! "
   ]
  }
 ],
 "metadata": {
  "kernelspec": {
   "display_name": "Python 3",
   "language": "python",
   "name": "python3"
  },
  "language_info": {
   "codemirror_mode": {
    "name": "ipython",
    "version": 3
   },
   "file_extension": ".py",
   "mimetype": "text/x-python",
   "name": "python",
   "nbconvert_exporter": "python",
   "pygments_lexer": "ipython3",
   "version": "3.6.3"
  }
 },
 "nbformat": 4,
 "nbformat_minor": 2
}
