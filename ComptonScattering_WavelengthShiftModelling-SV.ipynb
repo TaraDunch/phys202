{
 "cells": [
  {
   "cell_type": "markdown",
   "metadata": {},
   "source": [
    "# Theoretical Model of Wavelength Shift due to Compton Scattering."
   ]
  },
  {
   "cell_type": "markdown",
   "metadata": {},
   "source": [
    "In this notebook you'll be taken step by step through the process of plotting the relationship between photon scattering angle and its wavelength shift in metres, given by the equation\n",
    "$\\Delta\\lambda=2.43\\times 10^{-12} (1-\\cos\\Theta)$."
   ]
  },
  {
   "cell_type": "markdown",
   "metadata": {},
   "source": [
    "Step 1. Import numpy and pyplot from matplotlib."
   ]
  },
  {
   "cell_type": "code",
   "execution_count": null,
   "metadata": {
    "collapsed": true
   },
   "outputs": [],
   "source": [
    "#you can just run this cell\n",
    "import numpy as np\n",
    "import matplotlib.pyplot as plt\n",
    "%matplotlib inline"
   ]
  },
  {
   "cell_type": "markdown",
   "metadata": {},
   "source": [
    "Step 2. Make an array called 'theta' which has 20 or more equally spaced values ranging from $0-\\pi$ radians inclusive.\n",
    "        (Use np.linspace)."
   ]
  },
  {
   "cell_type": "code",
   "execution_count": null,
   "metadata": {
    "collapsed": true
   },
   "outputs": [],
   "source": [
    "#complete the code\n",
    "theta=np.linspace"
   ]
  },
  {
   "cell_type": "markdown",
   "metadata": {},
   "source": [
    "Step 3. Assign the value $2.43\\times10^{-12}$ to variable cwe (Compton Wavelength of an Electron)."
   ]
  },
  {
   "cell_type": "code",
   "execution_count": null,
   "metadata": {
    "collapsed": false
   },
   "outputs": [],
   "source": [
    "#Compton wavelength of an electron\n",
    "cwe="
   ]
  },
  {
   "cell_type": "markdown",
   "metadata": {},
   "source": [
    "Step 4. Calculate a new array 'deltaLambda' based on Equation (5a), that is\n",
    "\n",
    "$\\Delta\\lambda=2.43\\times10^{-12}(1-\\cos(\\theta))$,\n",
    "\n",
    "using Numpy's cos function, your array theta and constant cwe."
   ]
  },
  {
   "cell_type": "code",
   "execution_count": null,
   "metadata": {
    "collapsed": true
   },
   "outputs": [],
   "source": [
    "deltaLambda="
   ]
  },
  {
   "cell_type": "markdown",
   "metadata": {},
   "source": [
    "Step 5. Make an array called 'thetaInDegrees', which is the same as 'theta' except angle is expressed in degrees instead of radians."
   ]
  },
  {
   "cell_type": "code",
   "execution_count": null,
   "metadata": {
    "collapsed": true
   },
   "outputs": [],
   "source": [
    "#complete the code\n",
    "thetaInDegrees="
   ]
  },
  {
   "cell_type": "markdown",
   "metadata": {},
   "source": [
    "Step 6. Now you are ready to plot Equation (5a). Plot $\\Delta\\lambda$ as a function of thetaInDegrees. Add axes labels and a title. Save the figure as a pdf file with an appropriate name."
   ]
  },
  {
   "cell_type": "code",
   "execution_count": null,
   "metadata": {
    "collapsed": false
   },
   "outputs": [],
   "source": [
    "#complete the plt.plot command\n",
    "plt.plot(\n",
    "#add x axis label\n",
    "plt.xlabel()\n",
    "#add y axis label\n",
    "plt.ylabel()\n",
    "#add a title for your graph\n",
    "plt.suptitle()\n",
    "#save figure to pdf\n",
    "plt.savefig(\"myplot.pdf\",dpi=300,orientation=\"landscape\")"
   ]
  }
 ],
 "metadata": {
  "kernelspec": {
   "display_name": "Python 3",
   "language": "python",
   "name": "python3"
  },
  "language_info": {
   "codemirror_mode": {
    "name": "ipython",
    "version": 3
   },
   "file_extension": ".py",
   "mimetype": "text/x-python",
   "name": "python",
   "nbconvert_exporter": "python",
   "pygments_lexer": "ipython3",
   "version": "3.6.0"
  }
 },
 "nbformat": 4,
 "nbformat_minor": 2
}
